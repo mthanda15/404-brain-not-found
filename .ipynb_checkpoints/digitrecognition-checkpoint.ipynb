{
 "cells": [
  {
   "cell_type": "markdown",
   "metadata": {},
   "source": [
    "# Logistic Regression and Multi-layer Feed-forward Neural Network for Digit Recognition\n",
    "\n",
    "\n",
    "## Dataset\n",
    "The [MNIST](http://yann.lecun.com/exdb/mnist/) dataset consists of handwritten grayscale digit images. All handwritten digit images have been size-normalized and centered in a fixed size image of 28 x 28 pixels. A grayscale image is nothing but a 2D array of integers between 0 and 255. In the original dataset each pixel of the image is represented by a value between 0 and 255, where 0 is black, 255 is white and anything in between is a different shade of grey. Below is some examples of [MNIST](http://yann.lecun.com/exdb/mnist/) handwritten digits:\n",
    "\n",
    "![MNIST](./mnist-samples.png)\n",
    "\n",
    "\n",
    "## References\n",
    "\n",
    "[2] https://pjreddie.com/projects/mnist-in-csv/"
   ]
  },
  {
   "cell_type": "markdown",
   "metadata": {},
   "source": [
    "## Dataset Loading and Visualisation\n",
    "The following function loads train and test handwritten digit image samples from [MNIST](http://yann.lecun.com/exdb/mnist/) dataset."
   ]
  },
  {
   "cell_type": "code",
   "execution_count": 1,
   "metadata": {},
   "outputs": [],
   "source": [
    "import matplotlib.pyplot as pl\n",
    "from sklearn.model_selection import train_test_split#used for getting validation data from test data.sklearn method for splitting data\n",
    "import numpy as np"
   ]
  },
  {
   "cell_type": "code",
   "execution_count": 2,
   "metadata": {},
   "outputs": [],
   "source": [
    "def load_dataset(train_dataset='../data/mnist_train.csv', test_dataset='../data/mnist_test.csv'):\n",
    "    \"\"\"\n",
    "    Loads and returns train and test datasets.\n",
    "    \"\"\"\n",
    "    data_train = np.genfromtxt(fname=train_dataset, delimiter=',')\n",
    "    y_train = data_train[:,0].astype(np.int)\n",
    "    x_train = data_train[:,1:] / 255.0\n",
    "    data_test = np.genfromtxt(fname=test_dataset, delimiter=',')\n",
    "    y_test = data_test[:,0].astype(np.int)\n",
    "    x_test = data_test[:,1:] / 255.0\n",
    "    return (x_train, y_train, x_test, y_test)"
   ]
  },
  {
   "cell_type": "markdown",
   "metadata": {},
   "source": [
    "The following script calls function `load_dataset()` to load train and test datasets. _Be patient as it may take some time to load datasets!_"
   ]
  },
  {
   "cell_type": "code",
   "execution_count": 3,
   "metadata": {},
   "outputs": [],
   "source": [
    "x_train, y_train, x_test, y_test = load_dataset()"
   ]
  },
  {
   "cell_type": "code",
   "execution_count": 4,
   "metadata": {},
   "outputs": [
    {
     "data": {
      "text/plain": [
       "(10000, 784)"
      ]
     },
     "execution_count": 4,
     "metadata": {},
     "output_type": "execute_result"
    }
   ],
   "source": [
    "x_test.shape"
   ]
  },
  {
   "cell_type": "code",
   "execution_count": 26,
   "metadata": {},
   "outputs": [
    {
     "name": "stdout",
     "output_type": "stream",
     "text": [
      "/home/mss/Desktop/Talifhani/Machine Learning/Supervised/lr-mfnn-for-digit-recognition/lr-mfnn-for-digit-recognition/code\r\n"
     ]
    }
   ],
   "source": [
    "!pwd"
   ]
  },
  {
   "cell_type": "markdown",
   "metadata": {},
   "source": [
    "Each row of `x_train` and `x_test` variables is a 1D vector comprised of 784 (28 * 28) integers and refers to an unpacked handwritten digit image. The following function takes a 1D vector array as input and returns the corresponding 2D representation as image."
   ]
  },
  {
   "cell_type": "code",
   "execution_count": 5,
   "metadata": {},
   "outputs": [],
   "source": [
    "def vector2image(image_vector, image_height=28, image_width=28):\n",
    "    \"\"\"\n",
    "    Returns image representation of the input 1D vector.\n",
    "    \"\"\"\n",
    "    image = np.reshape(image_vector, (image_height, image_width))\n",
    "    return image"
   ]
  },
  {
   "cell_type": "markdown",
   "metadata": {},
   "source": [
    "Now you can use `vector2image()` function to convert a 1D feature vector to 2D image for visualisation purposes, e.g.:"
   ]
  },
  {
   "cell_type": "code",
   "execution_count": 6,
   "metadata": {},
   "outputs": [
    {
     "data": {
      "image/png": "[encoded data removed]",
      "text/plain": [
       "<Figure size 432x288 with 1 Axes>"
      ]
     },
     "metadata": {
      "needs_background": "light"
     },
     "output_type": "display_data"
    }
   ],
   "source": [
    "index = 0\n",
    "image = vector2image(x_train[index])\n",
    "pl.figure()\n",
    "pl.imshow(image, cmap='gray')\n",
    "pl.title('x_train[' + str(index) + '], ' + 'y_train[' + str(index) + '] = ' + str(y_train[index]))\n",
    "pl.show()"
   ]
  },
  {
   "cell_type": "markdown",
   "metadata": {},
   "source": [
    "You may also need the following function to convert a 2D grayscale image to 1D vector representation."
   ]
  },
  {
   "cell_type": "code",
   "execution_count": 7,
   "metadata": {},
   "outputs": [],
   "source": [
    "def image2vector(image):\n",
    "    \"\"\"\n",
    "    Returns 1D vector representation of the input 2D image.\n",
    "    \"\"\"\n",
    "    image_height, image_width = image.shape\n",
    "    image_vector = np.reshape(image, image_height*image_width)\n",
    "    return image_vector"
   ]
  },
  {
   "cell_type": "markdown",
   "metadata": {},
   "source": [
    "Thus, `vector2image(image2vector(vector2image(x_train[index])))` must produce exactly same output with that of `vector2image(x_train[index])`, i.e.:"
   ]
  },
  {
   "cell_type": "code",
   "execution_count": 8,
   "metadata": {},
   "outputs": [
    {
     "data": {
      "image/png": "[encoded data removed]",
      "text/plain": [
       "<Figure size 432x288 with 1 Axes>"
      ]
     },
     "metadata": {
      "needs_background": "light"
     },
     "output_type": "display_data"
    }
   ],
   "source": [
    "image = vector2image(image2vector(vector2image(x_train[index])))\n",
    "pl.figure()\n",
    "pl.imshow(image, cmap='gray')\n",
    "pl.title('x_train[' + str(index) + '], ' + 'y_train[' + str(index) + '] = ' + str(y_train[index]))\n",
    "pl.show()"
   ]
  },
  {
   "cell_type": "code",
   "execution_count": 9,
   "metadata": {},
   "outputs": [
    {
     "data": {
      "text/plain": [
       "array([5, 0, 4, ..., 5, 6, 8])"
      ]
     },
     "execution_count": 9,
     "metadata": {},
     "output_type": "execute_result"
    }
   ],
   "source": [
    "y_train"
   ]
  },
  {
   "cell_type": "markdown",
   "metadata": {},
   "source": [
    "Now, let's produce an image that is similar to what you see on the very first markdown cell by selecting samples from `x_train` and `y_train`!"
   ]
  },
  {
   "cell_type": "code",
   "execution_count": 10,
   "metadata": {},
   "outputs": [
    {
     "data": {
      "image/png": "[encoded data removed]",
      "text/plain": [
       "<Figure size 432x288 with 1 Axes>"
      ]
     },
     "metadata": {
      "needs_background": "light"
     },
     "output_type": "display_data"
    }
   ],
   "source": [
    "C = 10 # number of digits\n",
    "R = 16 # images per row\n",
    "for c in np.arange(C):\n",
    "    for r in np.arange(R):\n",
    "        image = vector2image(x_train[y_train==c][r])\n",
    "        if r == 0:\n",
    "            image_digits_row = image\n",
    "        else:\n",
    "            image_digits_row = np.hstack((image_digits_row, image))\n",
    "    if c == 0:\n",
    "        image_digits = image_digits_row\n",
    "    else:\n",
    "        image_digits = np.vstack((image_digits, image_digits_row))\n",
    "pl.figure()\n",
    "pl.imshow(image_digits, cmap='gray')\n",
    "pl.axis(\"off\")\n",
    "# save a copy of this image as png file under ./images folder\n",
    "pl.imsave('./mnist-samples.png', image_digits, cmap='gray') "
   ]
  },
  {
   "cell_type": "markdown",
   "metadata": {},
   "source": [
    "We are ready to implement LR classifier for digit recognition.\n",
    "\n",
    "## Logistic Regression"
   ]
  },
  {
   "cell_type": "code",
   "execution_count": 11,
   "metadata": {},
   "outputs": [],
   "source": [
    "class LR:\n",
    "    def __init__(self):\n",
    "        pass\n",
    "    \n",
    "    def parameters(self):\n",
    "        return self.W\n",
    "                \n",
    "    def activation(self, s):\n",
    "        return 1.0 / (1 + np.exp(-s)) # sigmoid function as activation function\n",
    "    \n",
    "    def feedforward(self, X): # output of the logistic regression\n",
    "        S = np.dot(X, self.W)\n",
    "        U = self.activation(S)\n",
    "        return U\n",
    "        \n",
    "    def learn(self, X, Y, learning_rate=0.99, delta=1e-6, epoch_max=5000, seed=7):\n",
    "        self.learning_rate = learning_rate\n",
    "        self.delta = delta\n",
    "        self.epoch_max = epoch_max\n",
    "        self.seed = seed\n",
    "        np.random.seed(seed)\n",
    "        X = np.hstack((np.ones((X.shape[0],1)), X))\n",
    "        d = X.shape[1]\n",
    "        C =  len(np.unique(Y))\n",
    "        self.W = np.random.randn(d, C) * 0.01\n",
    "        N = X.shape[0]\n",
    "        Y_one_hot = np.zeros((N, C))\n",
    "        Y_one_hot[np.arange(N), Y] = 1.0\n",
    "        converged = False\n",
    "        epoch = 1\n",
    "        while not converged:\n",
    "            U = self.feedforward(X)\n",
    "            E = (U - Y_one_hot)\n",
    "            D = U * (1-U) * E\n",
    "            MSE = 1.0 / (2 * N) * np.sum(np.sum(E**2, axis=1))\n",
    "            if (epoch%100) == 0:\n",
    "                ACC = self.accuracy(X, Y, True)\n",
    "                print('epoch = {0}, MSE = {1:.3f}, TRAIN ACC = {2:.3f}'.format(epoch, MSE, ACC))\n",
    "            W_ = self.W.copy()\n",
    "            self.W = self.W - self.learning_rate * 1.0/N * np.dot(X.T, D)\n",
    "            epoch += 1\n",
    "            if (np.max(np.abs(W_ - self.W)) <= self.delta) or (epoch >=self.epoch_max):\n",
    "                converged = True        \n",
    "        \n",
    "    def classify(self, X, augmented=False):\n",
    "        if not augmented:\n",
    "            X = np.hstack((np.ones((X.shape[0],1)), X))\n",
    "        U = self.feedforward(X)\n",
    "        L = np.argmax(U, axis=1)            \n",
    "        return L\n",
    "    \n",
    "    def accuracy(self, X, Y, augmented=False):\n",
    "        N = X.shape[0]\n",
    "        L = self.classify(X, augmented)\n",
    "        acc = np.sum(L == Y) / N\n",
    "        return acc\n",
    "    \n",
    "    def confusion_matrix(self, X, Y):\n",
    "        P = lr.classify(X)\n",
    "        labels = np.unique(Y)\n",
    "        CM = np.zeros((len(labels), len(labels)), dtype=np.int)\n",
    "        for y, p in zip(Y, P):\n",
    "            CM[y,p] = CM[y,p] + 1\n",
    "        return CM        "
   ]
  },
  {
   "cell_type": "markdown",
   "metadata": {},
   "source": [
    "### Train Logistic Regression"
   ]
  },
  {
   "cell_type": "code",
   "execution_count": 12,
   "metadata": {
    "scrolled": false
   },
   "outputs": [
    {
     "name": "stdout",
     "output_type": "stream",
     "text": [
      "epoch = 100, MSE = 0.156, TRAIN ACC = 0.863\n",
      "epoch = 200, MSE = 0.131, TRAIN ACC = 0.879\n",
      "epoch = 300, MSE = 0.121, TRAIN ACC = 0.886\n",
      "epoch = 400, MSE = 0.114, TRAIN ACC = 0.891\n",
      "epoch = 500, MSE = 0.110, TRAIN ACC = 0.893\n",
      "epoch = 600, MSE = 0.106, TRAIN ACC = 0.895\n",
      "epoch = 700, MSE = 0.104, TRAIN ACC = 0.897\n",
      "epoch = 800, MSE = 0.102, TRAIN ACC = 0.899\n",
      "epoch = 900, MSE = 0.100, TRAIN ACC = 0.900\n",
      "epoch = 1000, MSE = 0.098, TRAIN ACC = 0.901\n",
      "epoch = 1100, MSE = 0.097, TRAIN ACC = 0.903\n",
      "epoch = 1200, MSE = 0.096, TRAIN ACC = 0.904\n",
      "epoch = 1300, MSE = 0.095, TRAIN ACC = 0.904\n",
      "epoch = 1400, MSE = 0.094, TRAIN ACC = 0.905\n",
      "epoch = 1500, MSE = 0.093, TRAIN ACC = 0.906\n",
      "epoch = 1600, MSE = 0.092, TRAIN ACC = 0.906\n",
      "epoch = 1700, MSE = 0.092, TRAIN ACC = 0.907\n",
      "epoch = 1800, MSE = 0.091, TRAIN ACC = 0.908\n",
      "epoch = 1900, MSE = 0.090, TRAIN ACC = 0.908\n",
      "epoch = 2000, MSE = 0.090, TRAIN ACC = 0.909\n",
      "epoch = 2100, MSE = 0.089, TRAIN ACC = 0.909\n",
      "epoch = 2200, MSE = 0.089, TRAIN ACC = 0.910\n",
      "epoch = 2300, MSE = 0.088, TRAIN ACC = 0.910\n",
      "epoch = 2400, MSE = 0.088, TRAIN ACC = 0.910\n",
      "epoch = 2500, MSE = 0.088, TRAIN ACC = 0.911\n",
      "epoch = 2600, MSE = 0.087, TRAIN ACC = 0.911\n",
      "epoch = 2700, MSE = 0.087, TRAIN ACC = 0.911\n",
      "epoch = 2800, MSE = 0.086, TRAIN ACC = 0.912\n",
      "epoch = 2900, MSE = 0.086, TRAIN ACC = 0.912\n",
      "epoch = 3000, MSE = 0.086, TRAIN ACC = 0.912\n",
      "epoch = 3100, MSE = 0.085, TRAIN ACC = 0.912\n",
      "epoch = 3200, MSE = 0.085, TRAIN ACC = 0.912\n",
      "epoch = 3300, MSE = 0.085, TRAIN ACC = 0.913\n",
      "epoch = 3400, MSE = 0.085, TRAIN ACC = 0.913\n",
      "epoch = 3500, MSE = 0.084, TRAIN ACC = 0.913\n",
      "epoch = 3600, MSE = 0.084, TRAIN ACC = 0.913\n",
      "epoch = 3700, MSE = 0.084, TRAIN ACC = 0.914\n",
      "epoch = 3800, MSE = 0.084, TRAIN ACC = 0.914\n",
      "epoch = 3900, MSE = 0.084, TRAIN ACC = 0.914\n",
      "epoch = 4000, MSE = 0.083, TRAIN ACC = 0.914\n",
      "epoch = 4100, MSE = 0.083, TRAIN ACC = 0.915\n",
      "epoch = 4200, MSE = 0.083, TRAIN ACC = 0.915\n",
      "epoch = 4300, MSE = 0.083, TRAIN ACC = 0.915\n",
      "epoch = 4400, MSE = 0.083, TRAIN ACC = 0.915\n",
      "epoch = 4500, MSE = 0.082, TRAIN ACC = 0.915\n",
      "epoch = 4600, MSE = 0.082, TRAIN ACC = 0.916\n",
      "epoch = 4700, MSE = 0.082, TRAIN ACC = 0.916\n",
      "epoch = 4800, MSE = 0.082, TRAIN ACC = 0.916\n",
      "epoch = 4900, MSE = 0.082, TRAIN ACC = 0.916\n"
     ]
    }
   ],
   "source": [
    "lr = LR()\n",
    "lr.learn(x_train, y_train, 0.99)"
   ]
  },
  {
   "cell_type": "markdown",
   "metadata": {
    "collapsed": true
   },
   "source": [
    "### Test Accuracy of the Trained Logistic Regression"
   ]
  },
  {
   "cell_type": "code",
   "execution_count": 13,
   "metadata": {},
   "outputs": [
    {
     "name": "stdout",
     "output_type": "stream",
     "text": [
      "TEST ACC = 0.918\n"
     ]
    }
   ],
   "source": [
    "print('TEST ACC = {0:.3f}'.format(lr.accuracy(x_test, y_test)))"
   ]
  },
  {
   "cell_type": "markdown",
   "metadata": {},
   "source": [
    "### Sample Digit Classification Results"
   ]
  },
  {
   "cell_type": "code",
   "execution_count": 14,
   "metadata": {},
   "outputs": [
    {
     "data": {
      "image/png": "[encoded data removed]",
      "text/plain": [
       "<Figure size 432x288 with 1 Axes>"
      ]
     },
     "metadata": {
      "needs_background": "light"
     },
     "output_type": "display_data"
    }
   ],
   "source": [
    "index = 1000\n",
    "image_test = vector2image(x_test[index])\n",
    "image_test_label = y_test[index]\n",
    "image_test_label_predicted = lr.classify(x_test[index][np.newaxis, :])[0]\n",
    "pl.figure()\n",
    "pl.imshow(image_test, cmap='gray')\n",
    "pl.axis('off')\n",
    "pl.title('x_test[{0}], y_test[{0}]={1}, y_test_pred[{0}]={2}'.format(index, image_test_label, image_test_label_predicted))\n",
    "pl.show()"
   ]
  },
  {
   "cell_type": "markdown",
   "metadata": {},
   "source": [
    "### Confusion Matrix"
   ]
  },
  {
   "cell_type": "code",
   "execution_count": 15,
   "metadata": {},
   "outputs": [
    {
     "name": "stdout",
     "output_type": "stream",
     "text": [
      "[[ 963    0    0    2    0    2    8    1    4    0]\n",
      " [   0 1104    3    4    0    2    5    2   15    0]\n",
      " [   9    1  931   10   11    3   12   15   36    4]\n",
      " [   3    0   23  921    2   21    4    9   17   10]\n",
      " [   3    2    6    0  908    0   11    2   10   40]\n",
      " [  13    3    4   34   12  759   19    8   32    8]\n",
      " [  11    3    3    1    7   13  913    1    6    0]\n",
      " [   4   10   25    5    7    1    1  946    2   27]\n",
      " [  12    5    9   16   14   24   11   15  863    5]\n",
      " [  11    6    2   14   54    9    0   25   15  873]]\n"
     ]
    }
   ],
   "source": [
    "print(lr.confusion_matrix(x_test, y_test))"
   ]
  },
  {
   "cell_type": "code",
   "execution_count": 16,
   "metadata": {},
   "outputs": [],
   "source": [
    "class MFNN:\n",
    "    def __init__(self, num_nodes, seed=7):\n",
    "        self.num_nodes = num_nodes\n",
    "        self.seed = seed\n",
    "        self.create_network()\n",
    "        \n",
    "    def create_network(self):\n",
    "        np.random.seed(self.seed)\n",
    "        self.Wrandom = []        \n",
    "        for n in np.arange(len(self.num_nodes)-1):\n",
    "            Wr = np.random.randn(self.num_nodes[n], self.num_nodes[n+1])\n",
    "            Wr = Wr - np.mean(Wr, axis=0)\n",
    "            Wr = Wr / np.var(Wr, axis=0)\n",
    "            self.Wrandom.append(Wr)\n",
    "            \n",
    "    def augment_data(self, X):\n",
    "        s = X.copy()\n",
    "        for Wr in self.Wrandom:\n",
    "            s = np.dot(s, Wr)\n",
    "            u = self.activation(s)\n",
    "        u = np.hstack((np.ones((u.shape[0],1)), u))\n",
    "        return u            \n",
    "    \n",
    "    def parameters(self):\n",
    "        return self.W\n",
    "                \n",
    "    def activation(self, s):\n",
    "        return 1.0 / (1 + np.exp(-s)) # sigmoid function as activation function\n",
    "    \n",
    "    def feedforward(self, X): # output of the logistic regression\n",
    "        S = np.dot(X, self.W)\n",
    "        U = self.activation(S)\n",
    "        return U\n",
    "        \n",
    "    def learn(self, X, Y, learning_rate=0.99, delta=1e-6, epoch_max=5000, seed=7):\n",
    "        self.learning_rate = learning_rate\n",
    "        self.delta = delta\n",
    "        self.epoch_max = epoch_max\n",
    "        self.seed = seed\n",
    "        np.random.seed(seed)\n",
    "        X = self.augment_data(X)\n",
    "        d = X.shape[1]\n",
    "        C =  len(np.unique(Y))\n",
    "        self.W = np.random.randn(d, C) * 0.01\n",
    "        N = X.shape[0]\n",
    "        Y_one_hot = np.zeros((N, C))\n",
    "        Y_one_hot[np.arange(N), Y] = 1.0\n",
    "        converged = False\n",
    "        epoch = 1\n",
    "        while not converged:\n",
    "            U = self.feedforward(X)\n",
    "            E = (U - Y_one_hot)\n",
    "            D = U * (1-U) * E\n",
    "            MSE = 1.0 / (2 * N) * np.sum(np.sum(E**2, axis=1))\n",
    "            if (epoch%20) == 0:\n",
    "                ACC = self.accuracy(X, Y, True)\n",
    "                print('epoch = {0}, MSE = {1:.3f}, TRAIN ACC = {2:.3f}'.format(epoch, MSE, ACC))\n",
    "            W_ = self.W.copy()\n",
    "            self.W = self.W - self.learning_rate * 1.0/N * np.dot(X.T, D)\n",
    "            epoch += 1\n",
    "            if (np.max(np.abs(W_ - self.W)) <= self.delta) or (epoch >=self.epoch_max):\n",
    "                converged = True        \n",
    "        \n",
    "    def classify(self, X, augmented=False):\n",
    "        if not augmented:\n",
    "            X = self.augment_data(X)\n",
    "        U = self.feedforward(X)\n",
    "        L = np.argmax(U, axis=1)            \n",
    "        return L\n",
    "    \n",
    "    def accuracy(self, X, Y, augmented=False):\n",
    "        N = X.shape[0]\n",
    "        L = self.classify(X, augmented)\n",
    "        acc = np.sum(L == Y) / N\n",
    "        return acc\n",
    "    \n",
    "    def confusion_matrix(self, X, Y):\n",
    "        P = lr.classify(X)\n",
    "        labels = np.unique(Y)\n",
    "        CM = np.zeros((len(labels), len(labels)), dtype=np.int)\n",
    "        for y, p in zip(Y, P):\n",
    "            CM[y,p] = CM[y,p] + 1\n",
    "        return CM        "
   ]
  },
  {
   "cell_type": "code",
   "execution_count": 17,
   "metadata": {},
   "outputs": [
    {
     "name": "stdout",
     "output_type": "stream",
     "text": [
      "epoch = 20, MSE = 0.417, TRAIN ACC = 0.252\n",
      "epoch = 40, MSE = 0.312, TRAIN ACC = 0.675\n",
      "epoch = 60, MSE = 0.252, TRAIN ACC = 0.769\n",
      "epoch = 80, MSE = 0.218, TRAIN ACC = 0.814\n",
      "epoch = 100, MSE = 0.195, TRAIN ACC = 0.834\n",
      "epoch = 120, MSE = 0.180, TRAIN ACC = 0.845\n",
      "epoch = 140, MSE = 0.169, TRAIN ACC = 0.853\n",
      "epoch = 160, MSE = 0.160, TRAIN ACC = 0.859\n",
      "epoch = 180, MSE = 0.154, TRAIN ACC = 0.865\n",
      "epoch = 200, MSE = 0.148, TRAIN ACC = 0.868\n",
      "epoch = 220, MSE = 0.143, TRAIN ACC = 0.871\n",
      "epoch = 240, MSE = 0.139, TRAIN ACC = 0.874\n",
      "epoch = 260, MSE = 0.136, TRAIN ACC = 0.877\n",
      "epoch = 280, MSE = 0.133, TRAIN ACC = 0.878\n",
      "epoch = 300, MSE = 0.130, TRAIN ACC = 0.881\n",
      "epoch = 320, MSE = 0.127, TRAIN ACC = 0.882\n",
      "epoch = 340, MSE = 0.125, TRAIN ACC = 0.884\n",
      "epoch = 360, MSE = 0.123, TRAIN ACC = 0.885\n",
      "epoch = 380, MSE = 0.121, TRAIN ACC = 0.887\n",
      "epoch = 400, MSE = 0.119, TRAIN ACC = 0.888\n",
      "epoch = 420, MSE = 0.118, TRAIN ACC = 0.889\n",
      "epoch = 440, MSE = 0.116, TRAIN ACC = 0.890\n",
      "epoch = 460, MSE = 0.115, TRAIN ACC = 0.891\n",
      "epoch = 480, MSE = 0.113, TRAIN ACC = 0.892\n",
      "epoch = 500, MSE = 0.112, TRAIN ACC = 0.893\n",
      "epoch = 520, MSE = 0.111, TRAIN ACC = 0.894\n",
      "epoch = 540, MSE = 0.110, TRAIN ACC = 0.895\n",
      "epoch = 560, MSE = 0.109, TRAIN ACC = 0.896\n",
      "epoch = 580, MSE = 0.108, TRAIN ACC = 0.897\n",
      "epoch = 600, MSE = 0.107, TRAIN ACC = 0.898\n",
      "epoch = 620, MSE = 0.106, TRAIN ACC = 0.899\n",
      "epoch = 640, MSE = 0.105, TRAIN ACC = 0.899\n",
      "epoch = 660, MSE = 0.105, TRAIN ACC = 0.900\n",
      "epoch = 680, MSE = 0.104, TRAIN ACC = 0.900\n",
      "epoch = 700, MSE = 0.103, TRAIN ACC = 0.901\n",
      "epoch = 720, MSE = 0.102, TRAIN ACC = 0.901\n",
      "epoch = 740, MSE = 0.102, TRAIN ACC = 0.901\n",
      "epoch = 760, MSE = 0.101, TRAIN ACC = 0.902\n",
      "epoch = 780, MSE = 0.100, TRAIN ACC = 0.903\n",
      "epoch = 800, MSE = 0.100, TRAIN ACC = 0.903\n",
      "epoch = 820, MSE = 0.099, TRAIN ACC = 0.904\n",
      "epoch = 840, MSE = 0.099, TRAIN ACC = 0.904\n",
      "epoch = 860, MSE = 0.098, TRAIN ACC = 0.904\n",
      "epoch = 880, MSE = 0.097, TRAIN ACC = 0.905\n",
      "epoch = 900, MSE = 0.097, TRAIN ACC = 0.905\n",
      "epoch = 920, MSE = 0.096, TRAIN ACC = 0.906\n",
      "epoch = 940, MSE = 0.096, TRAIN ACC = 0.906\n",
      "epoch = 960, MSE = 0.095, TRAIN ACC = 0.907\n",
      "epoch = 980, MSE = 0.095, TRAIN ACC = 0.907\n",
      "epoch = 1000, MSE = 0.095, TRAIN ACC = 0.907\n",
      "epoch = 1020, MSE = 0.094, TRAIN ACC = 0.908\n",
      "epoch = 1040, MSE = 0.094, TRAIN ACC = 0.908\n",
      "epoch = 1060, MSE = 0.093, TRAIN ACC = 0.909\n",
      "epoch = 1080, MSE = 0.093, TRAIN ACC = 0.909\n",
      "epoch = 1100, MSE = 0.093, TRAIN ACC = 0.909\n",
      "epoch = 1120, MSE = 0.092, TRAIN ACC = 0.910\n",
      "epoch = 1140, MSE = 0.092, TRAIN ACC = 0.910\n",
      "epoch = 1160, MSE = 0.091, TRAIN ACC = 0.910\n",
      "epoch = 1180, MSE = 0.091, TRAIN ACC = 0.910\n",
      "epoch = 1200, MSE = 0.091, TRAIN ACC = 0.911\n",
      "epoch = 1220, MSE = 0.090, TRAIN ACC = 0.911\n",
      "epoch = 1240, MSE = 0.090, TRAIN ACC = 0.911\n",
      "epoch = 1260, MSE = 0.090, TRAIN ACC = 0.912\n",
      "epoch = 1280, MSE = 0.089, TRAIN ACC = 0.912\n",
      "epoch = 1300, MSE = 0.089, TRAIN ACC = 0.912\n",
      "epoch = 1320, MSE = 0.089, TRAIN ACC = 0.912\n",
      "epoch = 1340, MSE = 0.088, TRAIN ACC = 0.913\n",
      "epoch = 1360, MSE = 0.088, TRAIN ACC = 0.913\n",
      "epoch = 1380, MSE = 0.088, TRAIN ACC = 0.913\n",
      "epoch = 1400, MSE = 0.088, TRAIN ACC = 0.913\n",
      "epoch = 1420, MSE = 0.087, TRAIN ACC = 0.914\n",
      "epoch = 1440, MSE = 0.087, TRAIN ACC = 0.914\n",
      "epoch = 1460, MSE = 0.087, TRAIN ACC = 0.914\n",
      "epoch = 1480, MSE = 0.086, TRAIN ACC = 0.914\n",
      "epoch = 1500, MSE = 0.086, TRAIN ACC = 0.914\n",
      "epoch = 1520, MSE = 0.086, TRAIN ACC = 0.915\n",
      "epoch = 1540, MSE = 0.086, TRAIN ACC = 0.915\n",
      "epoch = 1560, MSE = 0.085, TRAIN ACC = 0.915\n",
      "epoch = 1580, MSE = 0.085, TRAIN ACC = 0.916\n",
      "epoch = 1600, MSE = 0.085, TRAIN ACC = 0.916\n",
      "epoch = 1620, MSE = 0.085, TRAIN ACC = 0.916\n",
      "epoch = 1640, MSE = 0.084, TRAIN ACC = 0.916\n",
      "epoch = 1660, MSE = 0.084, TRAIN ACC = 0.917\n",
      "epoch = 1680, MSE = 0.084, TRAIN ACC = 0.917\n",
      "epoch = 1700, MSE = 0.084, TRAIN ACC = 0.917\n",
      "epoch = 1720, MSE = 0.084, TRAIN ACC = 0.917\n",
      "epoch = 1740, MSE = 0.083, TRAIN ACC = 0.917\n",
      "epoch = 1760, MSE = 0.083, TRAIN ACC = 0.918\n",
      "epoch = 1780, MSE = 0.083, TRAIN ACC = 0.918\n",
      "epoch = 1800, MSE = 0.083, TRAIN ACC = 0.918\n",
      "epoch = 1820, MSE = 0.083, TRAIN ACC = 0.918\n",
      "epoch = 1840, MSE = 0.082, TRAIN ACC = 0.918\n",
      "epoch = 1860, MSE = 0.082, TRAIN ACC = 0.919\n",
      "epoch = 1880, MSE = 0.082, TRAIN ACC = 0.919\n",
      "epoch = 1900, MSE = 0.082, TRAIN ACC = 0.919\n",
      "epoch = 1920, MSE = 0.082, TRAIN ACC = 0.919\n",
      "epoch = 1940, MSE = 0.081, TRAIN ACC = 0.920\n",
      "epoch = 1960, MSE = 0.081, TRAIN ACC = 0.920\n",
      "epoch = 1980, MSE = 0.081, TRAIN ACC = 0.920\n",
      "epoch = 2000, MSE = 0.081, TRAIN ACC = 0.920\n",
      "epoch = 2020, MSE = 0.081, TRAIN ACC = 0.920\n",
      "epoch = 2040, MSE = 0.080, TRAIN ACC = 0.920\n",
      "epoch = 2060, MSE = 0.080, TRAIN ACC = 0.920\n",
      "epoch = 2080, MSE = 0.080, TRAIN ACC = 0.920\n",
      "epoch = 2100, MSE = 0.080, TRAIN ACC = 0.921\n",
      "epoch = 2120, MSE = 0.080, TRAIN ACC = 0.921\n",
      "epoch = 2140, MSE = 0.080, TRAIN ACC = 0.921\n",
      "epoch = 2160, MSE = 0.079, TRAIN ACC = 0.921\n",
      "epoch = 2180, MSE = 0.079, TRAIN ACC = 0.921\n",
      "epoch = 2200, MSE = 0.079, TRAIN ACC = 0.921\n",
      "epoch = 2220, MSE = 0.079, TRAIN ACC = 0.921\n",
      "epoch = 2240, MSE = 0.079, TRAIN ACC = 0.922\n",
      "epoch = 2260, MSE = 0.079, TRAIN ACC = 0.922\n",
      "epoch = 2280, MSE = 0.078, TRAIN ACC = 0.922\n",
      "epoch = 2300, MSE = 0.078, TRAIN ACC = 0.922\n",
      "epoch = 2320, MSE = 0.078, TRAIN ACC = 0.922\n",
      "epoch = 2340, MSE = 0.078, TRAIN ACC = 0.922\n",
      "epoch = 2360, MSE = 0.078, TRAIN ACC = 0.923\n",
      "epoch = 2380, MSE = 0.078, TRAIN ACC = 0.923\n",
      "epoch = 2400, MSE = 0.078, TRAIN ACC = 0.923\n",
      "epoch = 2420, MSE = 0.077, TRAIN ACC = 0.923\n",
      "epoch = 2440, MSE = 0.077, TRAIN ACC = 0.923\n",
      "epoch = 2460, MSE = 0.077, TRAIN ACC = 0.923\n",
      "epoch = 2480, MSE = 0.077, TRAIN ACC = 0.924\n",
      "epoch = 2500, MSE = 0.077, TRAIN ACC = 0.924\n",
      "epoch = 2520, MSE = 0.077, TRAIN ACC = 0.924\n",
      "epoch = 2540, MSE = 0.077, TRAIN ACC = 0.924\n",
      "epoch = 2560, MSE = 0.076, TRAIN ACC = 0.924\n",
      "epoch = 2580, MSE = 0.076, TRAIN ACC = 0.924\n",
      "epoch = 2600, MSE = 0.076, TRAIN ACC = 0.924\n",
      "epoch = 2620, MSE = 0.076, TRAIN ACC = 0.925\n",
      "epoch = 2640, MSE = 0.076, TRAIN ACC = 0.925\n",
      "epoch = 2660, MSE = 0.076, TRAIN ACC = 0.925\n",
      "epoch = 2680, MSE = 0.076, TRAIN ACC = 0.925\n",
      "epoch = 2700, MSE = 0.076, TRAIN ACC = 0.925\n",
      "epoch = 2720, MSE = 0.075, TRAIN ACC = 0.925\n",
      "epoch = 2740, MSE = 0.075, TRAIN ACC = 0.925\n",
      "epoch = 2760, MSE = 0.075, TRAIN ACC = 0.925\n",
      "epoch = 2780, MSE = 0.075, TRAIN ACC = 0.925\n",
      "epoch = 2800, MSE = 0.075, TRAIN ACC = 0.926\n",
      "epoch = 2820, MSE = 0.075, TRAIN ACC = 0.926\n",
      "epoch = 2840, MSE = 0.075, TRAIN ACC = 0.926\n",
      "epoch = 2860, MSE = 0.075, TRAIN ACC = 0.926\n",
      "epoch = 2880, MSE = 0.074, TRAIN ACC = 0.926\n",
      "epoch = 2900, MSE = 0.074, TRAIN ACC = 0.926\n",
      "epoch = 2920, MSE = 0.074, TRAIN ACC = 0.926\n",
      "epoch = 2940, MSE = 0.074, TRAIN ACC = 0.926\n",
      "epoch = 2960, MSE = 0.074, TRAIN ACC = 0.927\n",
      "epoch = 2980, MSE = 0.074, TRAIN ACC = 0.927\n",
      "epoch = 3000, MSE = 0.074, TRAIN ACC = 0.927\n",
      "epoch = 3020, MSE = 0.074, TRAIN ACC = 0.927\n",
      "epoch = 3040, MSE = 0.074, TRAIN ACC = 0.927\n",
      "epoch = 3060, MSE = 0.073, TRAIN ACC = 0.927\n",
      "epoch = 3080, MSE = 0.073, TRAIN ACC = 0.927\n",
      "epoch = 3100, MSE = 0.073, TRAIN ACC = 0.927\n",
      "epoch = 3120, MSE = 0.073, TRAIN ACC = 0.927\n",
      "epoch = 3140, MSE = 0.073, TRAIN ACC = 0.927\n",
      "epoch = 3160, MSE = 0.073, TRAIN ACC = 0.928\n",
      "epoch = 3180, MSE = 0.073, TRAIN ACC = 0.928\n",
      "epoch = 3200, MSE = 0.073, TRAIN ACC = 0.928\n",
      "epoch = 3220, MSE = 0.073, TRAIN ACC = 0.928\n",
      "epoch = 3240, MSE = 0.072, TRAIN ACC = 0.928\n",
      "epoch = 3260, MSE = 0.072, TRAIN ACC = 0.928\n",
      "epoch = 3280, MSE = 0.072, TRAIN ACC = 0.928\n",
      "epoch = 3300, MSE = 0.072, TRAIN ACC = 0.928\n",
      "epoch = 3320, MSE = 0.072, TRAIN ACC = 0.929\n",
      "epoch = 3340, MSE = 0.072, TRAIN ACC = 0.929\n",
      "epoch = 3360, MSE = 0.072, TRAIN ACC = 0.929\n",
      "epoch = 3380, MSE = 0.072, TRAIN ACC = 0.929\n",
      "epoch = 3400, MSE = 0.072, TRAIN ACC = 0.929\n",
      "epoch = 3420, MSE = 0.072, TRAIN ACC = 0.929\n",
      "epoch = 3440, MSE = 0.071, TRAIN ACC = 0.929\n",
      "epoch = 3460, MSE = 0.071, TRAIN ACC = 0.929\n",
      "epoch = 3480, MSE = 0.071, TRAIN ACC = 0.929\n",
      "epoch = 3500, MSE = 0.071, TRAIN ACC = 0.929\n",
      "epoch = 3520, MSE = 0.071, TRAIN ACC = 0.929\n",
      "epoch = 3540, MSE = 0.071, TRAIN ACC = 0.929\n",
      "epoch = 3560, MSE = 0.071, TRAIN ACC = 0.929\n",
      "epoch = 3580, MSE = 0.071, TRAIN ACC = 0.930\n",
      "epoch = 3600, MSE = 0.071, TRAIN ACC = 0.930\n",
      "epoch = 3620, MSE = 0.071, TRAIN ACC = 0.930\n",
      "epoch = 3640, MSE = 0.071, TRAIN ACC = 0.930\n",
      "epoch = 3660, MSE = 0.070, TRAIN ACC = 0.930\n",
      "epoch = 3680, MSE = 0.070, TRAIN ACC = 0.930\n"
     ]
    },
    {
     "name": "stdout",
     "output_type": "stream",
     "text": [
      "epoch = 3700, MSE = 0.070, TRAIN ACC = 0.930\n",
      "epoch = 3720, MSE = 0.070, TRAIN ACC = 0.930\n",
      "epoch = 3740, MSE = 0.070, TRAIN ACC = 0.930\n",
      "epoch = 3760, MSE = 0.070, TRAIN ACC = 0.931\n",
      "epoch = 3780, MSE = 0.070, TRAIN ACC = 0.931\n",
      "epoch = 3800, MSE = 0.070, TRAIN ACC = 0.931\n",
      "epoch = 3820, MSE = 0.070, TRAIN ACC = 0.931\n",
      "epoch = 3840, MSE = 0.070, TRAIN ACC = 0.931\n",
      "epoch = 3860, MSE = 0.070, TRAIN ACC = 0.931\n",
      "epoch = 3880, MSE = 0.070, TRAIN ACC = 0.931\n",
      "epoch = 3900, MSE = 0.069, TRAIN ACC = 0.931\n",
      "epoch = 3920, MSE = 0.069, TRAIN ACC = 0.931\n",
      "epoch = 3940, MSE = 0.069, TRAIN ACC = 0.931\n",
      "epoch = 3960, MSE = 0.069, TRAIN ACC = 0.931\n",
      "epoch = 3980, MSE = 0.069, TRAIN ACC = 0.931\n",
      "epoch = 4000, MSE = 0.069, TRAIN ACC = 0.932\n",
      "epoch = 4020, MSE = 0.069, TRAIN ACC = 0.932\n",
      "epoch = 4040, MSE = 0.069, TRAIN ACC = 0.932\n",
      "epoch = 4060, MSE = 0.069, TRAIN ACC = 0.932\n",
      "epoch = 4080, MSE = 0.069, TRAIN ACC = 0.932\n",
      "epoch = 4100, MSE = 0.069, TRAIN ACC = 0.932\n",
      "epoch = 4120, MSE = 0.069, TRAIN ACC = 0.932\n",
      "epoch = 4140, MSE = 0.068, TRAIN ACC = 0.932\n",
      "epoch = 4160, MSE = 0.068, TRAIN ACC = 0.932\n",
      "epoch = 4180, MSE = 0.068, TRAIN ACC = 0.932\n",
      "epoch = 4200, MSE = 0.068, TRAIN ACC = 0.932\n",
      "epoch = 4220, MSE = 0.068, TRAIN ACC = 0.932\n",
      "epoch = 4240, MSE = 0.068, TRAIN ACC = 0.932\n",
      "epoch = 4260, MSE = 0.068, TRAIN ACC = 0.932\n",
      "epoch = 4280, MSE = 0.068, TRAIN ACC = 0.933\n",
      "epoch = 4300, MSE = 0.068, TRAIN ACC = 0.933\n",
      "epoch = 4320, MSE = 0.068, TRAIN ACC = 0.933\n",
      "epoch = 4340, MSE = 0.068, TRAIN ACC = 0.933\n",
      "epoch = 4360, MSE = 0.068, TRAIN ACC = 0.933\n",
      "epoch = 4380, MSE = 0.068, TRAIN ACC = 0.933\n",
      "epoch = 4400, MSE = 0.068, TRAIN ACC = 0.933\n",
      "epoch = 4420, MSE = 0.067, TRAIN ACC = 0.933\n",
      "epoch = 4440, MSE = 0.067, TRAIN ACC = 0.933\n",
      "epoch = 4460, MSE = 0.067, TRAIN ACC = 0.933\n",
      "epoch = 4480, MSE = 0.067, TRAIN ACC = 0.933\n",
      "epoch = 4500, MSE = 0.067, TRAIN ACC = 0.933\n",
      "epoch = 4520, MSE = 0.067, TRAIN ACC = 0.933\n",
      "epoch = 4540, MSE = 0.067, TRAIN ACC = 0.934\n",
      "epoch = 4560, MSE = 0.067, TRAIN ACC = 0.934\n",
      "epoch = 4580, MSE = 0.067, TRAIN ACC = 0.934\n",
      "epoch = 4600, MSE = 0.067, TRAIN ACC = 0.934\n",
      "epoch = 4620, MSE = 0.067, TRAIN ACC = 0.934\n",
      "epoch = 4640, MSE = 0.067, TRAIN ACC = 0.934\n",
      "epoch = 4660, MSE = 0.067, TRAIN ACC = 0.934\n",
      "epoch = 4680, MSE = 0.067, TRAIN ACC = 0.934\n",
      "epoch = 4700, MSE = 0.066, TRAIN ACC = 0.934\n",
      "epoch = 4720, MSE = 0.066, TRAIN ACC = 0.934\n",
      "epoch = 4740, MSE = 0.066, TRAIN ACC = 0.934\n",
      "epoch = 4760, MSE = 0.066, TRAIN ACC = 0.934\n",
      "epoch = 4780, MSE = 0.066, TRAIN ACC = 0.934\n",
      "epoch = 4800, MSE = 0.066, TRAIN ACC = 0.934\n",
      "epoch = 4820, MSE = 0.066, TRAIN ACC = 0.934\n",
      "epoch = 4840, MSE = 0.066, TRAIN ACC = 0.934\n",
      "epoch = 4860, MSE = 0.066, TRAIN ACC = 0.934\n",
      "epoch = 4880, MSE = 0.066, TRAIN ACC = 0.934\n",
      "epoch = 4900, MSE = 0.066, TRAIN ACC = 0.934\n",
      "epoch = 4920, MSE = 0.066, TRAIN ACC = 0.935\n",
      "epoch = 4940, MSE = 0.066, TRAIN ACC = 0.935\n",
      "epoch = 4960, MSE = 0.066, TRAIN ACC = 0.935\n",
      "epoch = 4980, MSE = 0.066, TRAIN ACC = 0.935\n"
     ]
    }
   ],
   "source": [
    "num_nodes = [x_train.shape[1], np.int(2 * x_train.shape[1])]\n",
    "mfnn = MFNN(num_nodes)\n",
    "mfnn.learn(x_train, y_train, 0.1)"
   ]
  },
  {
   "cell_type": "code",
   "execution_count": 18,
   "metadata": {},
   "outputs": [
    {
     "name": "stdout",
     "output_type": "stream",
     "text": [
      "TEST ACC = 0.933\n"
     ]
    }
   ],
   "source": [
    "print('TEST ACC = {0:.3f}'.format(mfnn.accuracy(x_test, y_test)))"
   ]
  },
  {
   "cell_type": "code",
   "execution_count": 19,
   "metadata": {},
   "outputs": [
    {
     "name": "stdout",
     "output_type": "stream",
     "text": [
      "[[ 963    0    0    2    0    2    8    1    4    0]\n",
      " [   0 1104    3    4    0    2    5    2   15    0]\n",
      " [   9    1  931   10   11    3   12   15   36    4]\n",
      " [   3    0   23  921    2   21    4    9   17   10]\n",
      " [   3    2    6    0  908    0   11    2   10   40]\n",
      " [  13    3    4   34   12  759   19    8   32    8]\n",
      " [  11    3    3    1    7   13  913    1    6    0]\n",
      " [   4   10   25    5    7    1    1  946    2   27]\n",
      " [  12    5    9   16   14   24   11   15  863    5]\n",
      " [  11    6    2   14   54    9    0   25   15  873]]\n"
     ]
    }
   ],
   "source": [
    "print(mfnn.confusion_matrix(x_test, y_test))"
   ]
  },
  {
   "cell_type": "code",
   "execution_count": null,
   "metadata": {},
   "outputs": [],
   "source": []
  }
 ],
 "metadata": {
  "kernelspec": {
   "display_name": "Python 3",
   "language": "python",
   "name": "python3"
  },
  "language_info": {
   "codemirror_mode": {
    "name": "ipython",
    "version": 3
   },
   "file_extension": ".py",
   "mimetype": "text/x-python",
   "name": "python",
   "nbconvert_exporter": "python",
   "pygments_lexer": "ipython3",
   "version": "3.6.8"
  }
 },
 "nbformat": 4,
 "nbformat_minor": 2
}
