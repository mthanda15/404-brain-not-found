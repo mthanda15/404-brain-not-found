{
 "cells": [
  {
   "cell_type": "markdown",
   "metadata": {},
   "source": [
    "# Logistic Regression and Multi-layer Feed-forward Neural Network for Digit Recognition\n",
    "\n",
    "\n",
    "## Dataset\n",
    "The [MNIST](http://yann.lecun.com/exdb/mnist/) dataset consists of handwritten grayscale digit images. All handwritten digit images have been size-normalized and centered in a fixed size image of 28 x 28 pixels. A grayscale image is nothing but a 2D array of integers between 0 and 255. In the original dataset each pixel of the image is represented by a value between 0 and 255, where 0 is black, 255 is white and anything in between is a different shade of grey. Below is some examples of [MNIST](http://yann.lecun.com/exdb/mnist/) handwritten digits:\n",
    "\n",
    "![MNIST](./mnist-samples.png)\n",
    "\n",
    "\n",
    "## References\n",
    "\n",
    "[2] https://pjreddie.com/projects/mnist-in-csv/"
   ]
  },
  {
   "cell_type": "markdown",
   "metadata": {},
   "source": [
    "## Dataset Loading and Visualisation\n",
    "The following function loads train and test handwritten digit image samples from [MNIST](https://pjreddie.com/projects/mnist-in-csv/) dataset."
   ]
  },
  {
   "cell_type": "code",
   "execution_count": 2,
   "metadata": {},
   "outputs": [],
   "source": [
    "import matplotlib.pyplot as pl\n",
    "from sklearn.model_selection import train_test_split#used for getting validation data from test data.sklearn method for splitting data\n",
    "import numpy as np"
   ]
  },
  {
   "cell_type": "code",
   "execution_count": 3,
   "metadata": {},
   "outputs": [],
   "source": [
    "def load_dataset(train_dataset='../data/mnist_train.csv', test_dataset='../data/mnist_test.csv'):\n",
    "    \"\"\"\n",
    "    Loads and returns train and test datasets.\n",
    "    \"\"\"\n",
    "    data_train = np.genfromtxt(fname=train_dataset, delimiter=',')\n",
    "    y_train1 = data_train[:,0].astype(np.int)\n",
    "    x_train1 = data_train[:,1:] / 255.0#method for normalizing pixel values\n",
    "    #creating training and validation dataset using sklearn splitting method\n",
    "    x_train,x_val,y_train,y_val=train_test_split(x_train1,y_train1, test_size=0.15, random_state=52)\n",
    "    \n",
    "    data_test = np.genfromtxt(fname=test_dataset, delimiter=',')\n",
    "    y_test = data_test[:,0].astype(np.int)\n",
    "    x_test = data_test[:,1:] / 255.0\n",
    "    return (x_train, y_train, x_test, y_test,x_val,y_val)"
   ]
  },
  {
   "cell_type": "markdown",
   "metadata": {},
   "source": [
    "The following script calls function `load_dataset()` to load our training, testing and validation datasets."
   ]
  },
  {
   "cell_type": "code",
   "execution_count": 4,
   "metadata": {},
   "outputs": [],
   "source": [
    "x_train, y_train, x_test, y_test,x_val,y_val = load_dataset()"
   ]
  },
  {
   "cell_type": "code",
   "execution_count": 5,
   "metadata": {},
   "outputs": [
    {
     "name": "stdout",
     "output_type": "stream",
     "text": [
      "Number of training examples: m_train = 51000\n",
      "Number of testing examples: m_test = 10000\n",
      "Number of validation examples: m_test = 9000\n",
      "x_train shape: (51000, 784)\n",
      "y_train shape: (51000,)\n",
      "x_test shape: (10000, 784)\n",
      "y_test shape: (10000,)\n",
      "x_val shape: (9000, 784)\n",
      "y_val shape: (9000,)\n"
     ]
    }
   ],
   "source": [
    "m_train = x_train.shape[0]\n",
    "m_test = x_test.shape[0]\n",
    "m_val = x_val.shape[0]\n",
    "print (\"Number of training examples: m_train = \" + str(m_train))\n",
    "print (\"Number of testing examples: m_test = \" + str(m_test))\n",
    "print (\"Number of validation examples: m_test = \" + str(m_val))\n",
    "#print (\"Height/Width of each image: num_px = \" + str(num_px))\n",
    "#print (\"Each image is of size: (\" + str(num_px) + \", \" + str(num_px) + \", 3)\")\n",
    "print (\"x_train shape: \" + str(x_train.shape))\n",
    "print (\"y_train shape: \" + str(y_train.shape))\n",
    "print (\"x_test shape: \" + str(x_test.shape))\n",
    "print (\"y_test shape: \" + str(y_test.shape))\n",
    "print (\"x_val shape: \" + str(x_val.shape))\n",
    "print (\"y_val shape: \" + str(y_val.shape))"
   ]
  },
  {
   "cell_type": "code",
   "execution_count": 6,
   "metadata": {},
   "outputs": [
    {
     "data": {
      "text/plain": [
       "(51000, 785)"
      ]
     },
     "execution_count": 6,
     "metadata": {},
     "output_type": "execute_result"
    }
   ],
   "source": [
    " np.hstack((np.ones((x_train.shape[0],1)), x_train)).shape#function used to initialize weights in the learning function"
   ]
  },
  {
   "cell_type": "markdown",
   "metadata": {},
   "source": [
    "The dimension of our grayscale images is 28*28 pixels...."
   ]
  },
  {
   "cell_type": "markdown",
   "metadata": {},
   "source": [
    "Each row of `x_train`, `x_test` and 'x_val' variables is a 1D vector comprised of 784 (28 * 28) integers and refers to an unpacked handwritten digit image. "
   ]
  },
  {
   "cell_type": "markdown",
   "metadata": {},
   "source": [
    "The following function takes a 1D vector array as input and returns the corresponding 2D representation as image."
   ]
  },
  {
   "cell_type": "code",
   "execution_count": 7,
   "metadata": {},
   "outputs": [],
   "source": [
    "def vector2image(image_vector, image_height=28, image_width=28):\n",
    "    \"\"\"\n",
    "    Returns image representation of the input 1D vector.\n",
    "    \"\"\"\n",
    "    image = np.reshape(image_vector, (image_height, image_width))\n",
    "    return image"
   ]
  },
  {
   "cell_type": "code",
   "execution_count": 8,
   "metadata": {},
   "outputs": [
    {
     "data": {
      "text/plain": [
       "array([[0.        , 0.        , 0.        , 0.        , 0.        ,\n",
       "        0.        , 0.        , 0.        , 0.        , 0.        ,\n",
       "        0.        , 0.        , 0.        , 0.        , 0.        ,\n",
       "        0.        , 0.        , 0.        , 0.        , 0.        ,\n",
       "        0.        , 0.        , 0.        , 0.        , 0.        ,\n",
       "        0.        , 0.        , 0.        ],\n",
       "       [0.        , 0.        , 0.        , 0.        , 0.        ,\n",
       "        0.        , 0.        , 0.        , 0.        , 0.        ,\n",
       "        0.        , 0.        , 0.        , 0.        , 0.        ,\n",
       "        0.        , 0.        , 0.        , 0.        , 0.        ,\n",
       "        0.        , 0.        , 0.        , 0.        , 0.        ,\n",
       "        0.        , 0.        , 0.        ],\n",
       "       [0.        , 0.        , 0.        , 0.        , 0.        ,\n",
       "        0.        , 0.        , 0.        , 0.        , 0.        ,\n",
       "        0.        , 0.        , 0.        , 0.        , 0.        ,\n",
       "        0.        , 0.        , 0.        , 0.        , 0.        ,\n",
       "        0.        , 0.        , 0.        , 0.        , 0.        ,\n",
       "        0.        , 0.        , 0.        ],\n",
       "       [0.        , 0.        , 0.        , 0.        , 0.        ,\n",
       "        0.        , 0.        , 0.        , 0.        , 0.        ,\n",
       "        0.        , 0.        , 0.        , 0.        , 0.        ,\n",
       "        0.        , 0.        , 0.        , 0.        , 0.        ,\n",
       "        0.        , 0.        , 0.        , 0.        , 0.        ,\n",
       "        0.        , 0.        , 0.        ],\n",
       "       [0.        , 0.        , 0.        , 0.        , 0.        ,\n",
       "        0.        , 0.        , 0.        , 0.        , 0.        ,\n",
       "        0.        , 0.        , 0.        , 0.        , 0.        ,\n",
       "        0.        , 0.        , 0.        , 0.        , 0.        ,\n",
       "        0.        , 0.        , 0.        , 0.        , 0.        ,\n",
       "        0.        , 0.        , 0.        ],\n",
       "       [0.        , 0.        , 0.        , 0.        , 0.        ,\n",
       "        0.        , 0.        , 0.        , 0.        , 0.        ,\n",
       "        0.        , 0.        , 0.        , 0.        , 0.        ,\n",
       "        0.        , 0.        , 0.        , 0.        , 0.        ,\n",
       "        0.        , 0.        , 0.        , 0.        , 0.        ,\n",
       "        0.        , 0.        , 0.        ],\n",
       "       [0.        , 0.        , 0.        , 0.        , 0.        ,\n",
       "        0.        , 0.        , 0.05098039, 0.44313725, 0.44705882,\n",
       "        0.62352941, 0.99215686, 0.92941176, 0.74901961, 0.75294118,\n",
       "        0.44313725, 0.09803922, 0.        , 0.        , 0.        ,\n",
       "        0.        , 0.        , 0.        , 0.        , 0.        ,\n",
       "        0.        , 0.        , 0.        ],\n",
       "       [0.        , 0.        , 0.        , 0.        , 0.        ,\n",
       "        0.        , 0.2627451 , 0.70980392, 0.98823529, 0.99215686,\n",
       "        0.98823529, 0.98823529, 0.98823529, 0.98823529, 0.99215686,\n",
       "        0.98823529, 0.90588235, 0.47843137, 0.        , 0.        ,\n",
       "        0.        , 0.        , 0.        , 0.        , 0.        ,\n",
       "        0.        , 0.        , 0.        ],\n",
       "       [0.        , 0.        , 0.        , 0.        , 0.        ,\n",
       "        0.0745098 , 0.81960784, 0.98823529, 0.98823529, 0.89411765,\n",
       "        0.76470588, 0.76470588, 0.79215686, 0.98823529, 0.99215686,\n",
       "        0.98823529, 0.98823529, 0.8745098 , 0.        , 0.        ,\n",
       "        0.        , 0.        , 0.        , 0.        , 0.        ,\n",
       "        0.        , 0.        , 0.        ],\n",
       "       [0.        , 0.        , 0.        , 0.        , 0.        ,\n",
       "        0.69803922, 0.98823529, 0.98823529, 0.9254902 , 0.18431373,\n",
       "        0.        , 0.        , 0.03921569, 0.32941176, 0.32941176,\n",
       "        0.91764706, 0.98823529, 0.8745098 , 0.        , 0.        ,\n",
       "        0.        , 0.        , 0.        , 0.        , 0.        ,\n",
       "        0.        , 0.        , 0.        ],\n",
       "       [0.        , 0.        , 0.        , 0.        , 0.        ,\n",
       "        0.88235294, 0.98823529, 0.9254902 , 0.19607843, 0.        ,\n",
       "        0.        , 0.        , 0.        , 0.        , 0.        ,\n",
       "        0.88235294, 0.98823529, 0.8745098 , 0.        , 0.        ,\n",
       "        0.        , 0.        , 0.        , 0.        , 0.        ,\n",
       "        0.        , 0.        , 0.        ],\n",
       "       [0.        , 0.        , 0.        , 0.        , 0.        ,\n",
       "        0.88627451, 0.99215686, 0.92941176, 0.19607843, 0.        ,\n",
       "        0.        , 0.        , 0.        , 0.        , 0.        ,\n",
       "        0.63921569, 0.99215686, 0.38039216, 0.44313725, 0.44705882,\n",
       "        0.04705882, 0.        , 0.        , 0.        , 0.        ,\n",
       "        0.        , 0.        , 0.        ],\n",
       "       [0.        , 0.        , 0.        , 0.        , 0.        ,\n",
       "        0.69803922, 0.98823529, 0.98823529, 0.61960784, 0.        ,\n",
       "        0.        , 0.        , 0.        , 0.        , 0.        ,\n",
       "        0.03529412, 0.10588235, 0.14509804, 0.98823529, 0.99215686,\n",
       "        0.59607843, 0.        , 0.        , 0.        , 0.        ,\n",
       "        0.        , 0.        , 0.        ],\n",
       "       [0.        , 0.        , 0.        , 0.        , 0.        ,\n",
       "        0.33333333, 0.98823529, 0.98823529, 0.98823529, 0.        ,\n",
       "        0.        , 0.        , 0.        , 0.        , 0.        ,\n",
       "        0.        , 0.        , 0.54117647, 0.98823529, 0.99215686,\n",
       "        0.65490196, 0.        , 0.        , 0.        , 0.        ,\n",
       "        0.        , 0.        , 0.        ],\n",
       "       [0.        , 0.        , 0.        , 0.        , 0.        ,\n",
       "        0.29803922, 0.96470588, 0.98823529, 0.98823529, 0.37254902,\n",
       "        0.        , 0.        , 0.        , 0.        , 0.        ,\n",
       "        0.        , 0.02745098, 0.69803922, 0.98823529, 0.99215686,\n",
       "        0.65490196, 0.        , 0.        , 0.        , 0.        ,\n",
       "        0.        , 0.        , 0.        ],\n",
       "       [0.        , 0.        , 0.        , 0.        , 0.        ,\n",
       "        0.        , 0.77254902, 0.98823529, 0.98823529, 0.79607843,\n",
       "        0.36862745, 0.        , 0.        , 0.        , 0.        ,\n",
       "        0.        , 0.52941176, 0.98823529, 0.98823529, 0.99215686,\n",
       "        0.65490196, 0.        , 0.        , 0.        , 0.        ,\n",
       "        0.        , 0.        , 0.        ],\n",
       "       [0.        , 0.        , 0.        , 0.        , 0.        ,\n",
       "        0.        , 0.1254902 , 0.84705882, 0.99215686, 1.        ,\n",
       "        0.99215686, 0.56078431, 0.14901961, 0.        , 0.        ,\n",
       "        0.14901961, 0.87058824, 0.99215686, 0.99215686, 1.        ,\n",
       "        0.65882353, 0.        , 0.        , 0.        , 0.        ,\n",
       "        0.        , 0.        , 0.        ],\n",
       "       [0.        , 0.        , 0.        , 0.        , 0.        ,\n",
       "        0.        , 0.        , 0.13333333, 0.83921569, 0.99215686,\n",
       "        0.98823529, 0.98823529, 0.91764706, 0.88235294, 0.88627451,\n",
       "        0.91764706, 0.98823529, 0.98823529, 0.98823529, 0.99215686,\n",
       "        0.95294118, 0.19607843, 0.        , 0.        , 0.        ,\n",
       "        0.        , 0.        , 0.        ],\n",
       "       [0.        , 0.        , 0.        , 0.        , 0.        ,\n",
       "        0.        , 0.        , 0.        , 0.12156863, 0.46666667,\n",
       "        0.76470588, 0.9372549 , 0.98823529, 0.98823529, 0.99215686,\n",
       "        0.98823529, 0.9372549 , 0.79215686, 0.98823529, 0.99215686,\n",
       "        0.98823529, 0.21568627, 0.        , 0.        , 0.        ,\n",
       "        0.        , 0.        , 0.        ],\n",
       "       [0.        , 0.        , 0.        , 0.        , 0.        ,\n",
       "        0.        , 0.        , 0.        , 0.        , 0.        ,\n",
       "        0.        , 0.25882353, 0.63137255, 0.32941176, 0.32941176,\n",
       "        0.32941176, 0.25490196, 0.10196078, 0.9372549 , 0.99215686,\n",
       "        0.98823529, 0.27843137, 0.        , 0.        , 0.        ,\n",
       "        0.        , 0.        , 0.        ],\n",
       "       [0.        , 0.        , 0.        , 0.        , 0.        ,\n",
       "        0.        , 0.        , 0.        , 0.        , 0.        ,\n",
       "        0.        , 0.        , 0.        , 0.        , 0.        ,\n",
       "        0.        , 0.        , 0.        , 0.24705882, 0.99215686,\n",
       "        0.98823529, 0.76470588, 0.        , 0.        , 0.        ,\n",
       "        0.        , 0.        , 0.        ],\n",
       "       [0.        , 0.        , 0.        , 0.        , 0.        ,\n",
       "        0.        , 0.        , 0.        , 0.        , 0.        ,\n",
       "        0.        , 0.        , 0.        , 0.        , 0.        ,\n",
       "        0.        , 0.        , 0.        , 0.        , 1.        ,\n",
       "        0.99215686, 0.99215686, 0.32941176, 0.        , 0.        ,\n",
       "        0.        , 0.        , 0.        ],\n",
       "       [0.        , 0.        , 0.        , 0.        , 0.        ,\n",
       "        0.        , 0.        , 0.        , 0.        , 0.        ,\n",
       "        0.        , 0.        , 0.        , 0.        , 0.        ,\n",
       "        0.        , 0.        , 0.        , 0.        , 0.50196078,\n",
       "        0.98823529, 0.98823529, 0.81960784, 0.        , 0.        ,\n",
       "        0.        , 0.        , 0.        ],\n",
       "       [0.        , 0.        , 0.        , 0.        , 0.        ,\n",
       "        0.        , 0.        , 0.        , 0.        , 0.        ,\n",
       "        0.        , 0.        , 0.        , 0.        , 0.        ,\n",
       "        0.        , 0.        , 0.        , 0.        , 0.44313725,\n",
       "        0.98823529, 0.98823529, 0.8745098 , 0.        , 0.        ,\n",
       "        0.        , 0.        , 0.        ],\n",
       "       [0.        , 0.        , 0.        , 0.        , 0.        ,\n",
       "        0.        , 0.        , 0.        , 0.        , 0.        ,\n",
       "        0.        , 0.        , 0.        , 0.        , 0.        ,\n",
       "        0.        , 0.        , 0.        , 0.        , 0.39607843,\n",
       "        0.97647059, 0.98823529, 0.8745098 , 0.        , 0.        ,\n",
       "        0.        , 0.        , 0.        ],\n",
       "       [0.        , 0.        , 0.        , 0.        , 0.        ,\n",
       "        0.        , 0.        , 0.        , 0.        , 0.        ,\n",
       "        0.        , 0.        , 0.        , 0.        , 0.        ,\n",
       "        0.        , 0.        , 0.        , 0.        , 0.        ,\n",
       "        0.57254902, 0.98823529, 0.56862745, 0.        , 0.        ,\n",
       "        0.        , 0.        , 0.        ],\n",
       "       [0.        , 0.        , 0.        , 0.        , 0.        ,\n",
       "        0.        , 0.        , 0.        , 0.        , 0.        ,\n",
       "        0.        , 0.        , 0.        , 0.        , 0.        ,\n",
       "        0.        , 0.        , 0.        , 0.        , 0.        ,\n",
       "        0.        , 0.        , 0.        , 0.        , 0.        ,\n",
       "        0.        , 0.        , 0.        ],\n",
       "       [0.        , 0.        , 0.        , 0.        , 0.        ,\n",
       "        0.        , 0.        , 0.        , 0.        , 0.        ,\n",
       "        0.        , 0.        , 0.        , 0.        , 0.        ,\n",
       "        0.        , 0.        , 0.        , 0.        , 0.        ,\n",
       "        0.        , 0.        , 0.        , 0.        , 0.        ,\n",
       "        0.        , 0.        , 0.        ]])"
      ]
     },
     "execution_count": 8,
     "metadata": {},
     "output_type": "execute_result"
    }
   ],
   "source": [
    "vector2image(x_train[0])"
   ]
  },
  {
   "cell_type": "markdown",
   "metadata": {},
   "source": [
    "Now you can use `vector2image()` function to convert a 1D feature vector to 2D image for visualisation purposes, e.g.:"
   ]
  },
  {
   "cell_type": "code",
   "execution_count": 9,
   "metadata": {},
   "outputs": [
    {
     "data": {
      "image/png": "[encoded data removed]",
      "text/plain": [
       "<Figure size 432x288 with 1 Axes>"
      ]
     },
     "metadata": {
      "needs_background": "light"
     },
     "output_type": "display_data"
    }
   ],
   "source": [
    "index = 0\n",
    "image = vector2image(x_train[index])\n",
    "pl.figure()\n",
    "pl.imshow(image, cmap='gray')\n",
    "pl.title('x_train[' + str(index) + '], ' + 'y_train[' + str(index) + '] = ' + str(y_train[index]))\n",
    "pl.show()"
   ]
  },
  {
   "cell_type": "markdown",
   "metadata": {},
   "source": [
    "You may also need the following function to convert a 2D grayscale image to 1D vector representation."
   ]
  },
  {
   "cell_type": "code",
   "execution_count": 10,
   "metadata": {},
   "outputs": [],
   "source": [
    "def image2vector(image):\n",
    "    \"\"\"\n",
    "    Returns 1D vector representation of the input 2D image.\n",
    "    \"\"\"\n",
    "    image_height, image_width = image.shape\n",
    "    image_vector = np.reshape(image, image_height*image_width)\n",
    "    return image_vector"
   ]
  },
  {
   "cell_type": "code",
   "execution_count": 11,
   "metadata": {},
   "outputs": [
    {
     "data": {
      "text/plain": [
       "(784,)"
      ]
     },
     "execution_count": 11,
     "metadata": {},
     "output_type": "execute_result"
    }
   ],
   "source": [
    "x_train[0].shape"
   ]
  },
  {
   "cell_type": "code",
   "execution_count": 12,
   "metadata": {},
   "outputs": [
    {
     "data": {
      "text/plain": [
       "(784,)"
      ]
     },
     "execution_count": 12,
     "metadata": {},
     "output_type": "execute_result"
    }
   ],
   "source": [
    "image2vector(vector2image(x_train[0])).shape"
   ]
  },
  {
   "cell_type": "markdown",
   "metadata": {},
   "source": []
  },
  {
   "cell_type": "code",
   "execution_count": 13,
   "metadata": {},
   "outputs": [
    {
     "data": {
      "image/png": "[encoded data removed]",
      "text/plain": [
       "<Figure size 432x288 with 1 Axes>"
      ]
     },
     "metadata": {
      "needs_background": "light"
     },
     "output_type": "display_data"
    }
   ],
   "source": [
    "image = vector2image(image2vector(vector2image(x_train[index])))\n",
    "pl.figure()\n",
    "pl.imshow(image, cmap='gray')\n",
    "pl.title('x_train[' + str(index) + '], ' + 'y_train[' + str(index) + '] = ' + str(y_train[index]))\n",
    "pl.show()"
   ]
  },
  {
   "cell_type": "code",
   "execution_count": 14,
   "metadata": {},
   "outputs": [
    {
     "data": {
      "text/plain": [
       "array([9, 9, 5, ..., 8, 5, 0])"
      ]
     },
     "execution_count": 14,
     "metadata": {},
     "output_type": "execute_result"
    }
   ],
   "source": [
    "y_train"
   ]
  },
  {
   "cell_type": "markdown",
   "metadata": {},
   "source": [
    "Now, let's produce an image that is similar to what you see on the very first markdown cell by selecting samples from `x_train` and `y_train`!"
   ]
  },
  {
   "cell_type": "code",
   "execution_count": 15,
   "metadata": {},
   "outputs": [
    {
     "data": {
      "image/png": "[encoded data removed]",
      "text/plain": [
       "<Figure size 432x288 with 1 Axes>"
      ]
     },
     "metadata": {
      "needs_background": "light"
     },
     "output_type": "display_data"
    }
   ],
   "source": [
    "C = 10 # number of digits\n",
    "R = 16 # images per row\n",
    "for c in np.arange(C):\n",
    "    for r in np.arange(R):\n",
    "        image = vector2image(x_train[y_train==c][r])\n",
    "        if r == 0:\n",
    "            image_digits_row = image\n",
    "        else:\n",
    "            image_digits_row = np.hstack((image_digits_row, image))\n",
    "    if c == 0:\n",
    "        image_digits = image_digits_row\n",
    "    else:\n",
    "        image_digits = np.vstack((image_digits, image_digits_row))\n",
    "pl.figure()\n",
    "pl.imshow(image_digits, cmap='gray')\n",
    "pl.axis(\"off\")\n",
    "# save a copy of this image as png file under ./images folder\n",
    "pl.imsave('./mnist-samples.png', image_digits, cmap='gray') "
   ]
  },
  {
   "cell_type": "markdown",
   "metadata": {},
   "source": [
    "We are ready to implement LR classifier for digit recognition.\n",
    "\n",
    "## Logistic Regression"
   ]
  },
  {
   "cell_type": "code",
   "execution_count": 16,
   "metadata": {},
   "outputs": [
    {
     "data": {
      "text/plain": [
       "(3, 4)"
      ]
     },
     "execution_count": 16,
     "metadata": {},
     "output_type": "execute_result"
    }
   ],
   "source": [
    "np.random.randn(3, 4).shape"
   ]
  },
  {
   "cell_type": "code",
   "execution_count": 17,
   "metadata": {},
   "outputs": [],
   "source": [
    "class LR:\n",
    "    def __init__(self):\n",
    "        pass\n",
    "    \n",
    "    def parameters(self):\n",
    "        return self.W\n",
    "                \n",
    "    def activation(self, s):\n",
    "        return 1.0 / (1 + np.exp(-s)) # sigmoid function as activation function\n",
    "    \n",
    "    def feedforward(self, X): # output of the logistic regression\n",
    "        S = np.dot(X, self.W)\n",
    "        U = self.activation(S)\n",
    "        return U\n",
    "        \n",
    "    def learn(self, X, Y, learning_rate=0.99, delta=1e-6, epoch_max=5000, seed=7):\n",
    "        self.learning_rate = learning_rate\n",
    "        self.delta = delta\n",
    "        self.epoch_max = epoch_max\n",
    "        self.seed = seed\n",
    "        np.random.seed(seed)\n",
    "        \n",
    "        X = np.hstack((np.ones((X.shape[0],1)), X))\n",
    "        d = X.shape[1]\n",
    "        C =  len(np.unique(Y))\n",
    "        self.W = np.random.randn(d, C) * 0.01\n",
    "        N = X.shape[0]\n",
    "        Y_one_hot = np.zeros((N, C))#matrix N ROWS C COLUMNS\n",
    "        Y_one_hot[np.arange(N), Y] = 1.0\n",
    "        converged = False\n",
    "        epoch = 1\n",
    "        while not converged:\n",
    "            U = self.feedforward(X)\n",
    "            E = (U - Y_one_hot)#ERROR\n",
    "            D = U * (1-U) * E\n",
    "            MSE = 1.0 / (2 * N) * np.sum(np.sum(E**2, axis=1))\n",
    "            if (epoch%100) == 0:\n",
    "                ACC = self.accuracy(X, Y, True)\n",
    "                print('epoch = {0}, MSE = {1:.3f}, TRAIN ACC = {2:.3f}'.format(epoch, MSE, ACC))\n",
    "            W_ = self.W.copy()\n",
    "            self.W = self.W - self.learning_rate * 1.0/N * np.dot(X.T, D)\n",
    "            epoch += 1\n",
    "            if (np.max(np.abs(W_ - self.W)) <= self.delta) or (epoch >=self.epoch_max):\n",
    "                converged = True        \n",
    "        \n",
    "    def classify(self, X, augmented=False):\n",
    "        if not augmented:\n",
    "            X = np.hstack((np.ones((X.shape[0],1)), X))\n",
    "        U = self.feedforward(X)\n",
    "        L = np.argmax(U, axis=1)            \n",
    "        return L\n",
    "    \n",
    "    def accuracy(self, X, Y, augmented=False):\n",
    "        N = X.shape[0]\n",
    "        L = self.classify(X, augmented)\n",
    "        acc = np.sum(L == Y) / N\n",
    "        return acc\n",
    "    \n",
    "    def confusion_matrix(self, X, Y):\n",
    "        P = lr.classify(X)\n",
    "        labels = np.unique(Y)\n",
    "        CM = np.zeros((len(labels), len(labels)), dtype=np.int)\n",
    "        for y, p in zip(Y, P):\n",
    "            CM[y,p] = CM[y,p] + 1\n",
    "        return CM        "
   ]
  },
  {
   "cell_type": "markdown",
   "metadata": {},
   "source": [
    "### Train Logistic Regression"
   ]
  },
  {
   "cell_type": "code",
   "execution_count": 18,
   "metadata": {
    "scrolled": false
   },
   "outputs": [
    {
     "name": "stdout",
     "output_type": "stream",
     "text": [
      "epoch = 100, MSE = 0.156, TRAIN ACC = 0.864\n",
      "epoch = 200, MSE = 0.131, TRAIN ACC = 0.879\n",
      "epoch = 300, MSE = 0.120, TRAIN ACC = 0.887\n",
      "epoch = 400, MSE = 0.114, TRAIN ACC = 0.891\n",
      "epoch = 500, MSE = 0.109, TRAIN ACC = 0.894\n",
      "epoch = 600, MSE = 0.106, TRAIN ACC = 0.896\n",
      "epoch = 700, MSE = 0.103, TRAIN ACC = 0.898\n",
      "epoch = 800, MSE = 0.101, TRAIN ACC = 0.900\n",
      "epoch = 900, MSE = 0.099, TRAIN ACC = 0.901\n",
      "epoch = 1000, MSE = 0.098, TRAIN ACC = 0.903\n",
      "epoch = 1100, MSE = 0.097, TRAIN ACC = 0.904\n",
      "epoch = 1200, MSE = 0.095, TRAIN ACC = 0.905\n",
      "epoch = 1300, MSE = 0.094, TRAIN ACC = 0.905\n",
      "epoch = 1400, MSE = 0.093, TRAIN ACC = 0.906\n",
      "epoch = 1500, MSE = 0.092, TRAIN ACC = 0.907\n",
      "epoch = 1600, MSE = 0.092, TRAIN ACC = 0.908\n",
      "epoch = 1700, MSE = 0.091, TRAIN ACC = 0.908\n",
      "epoch = 1800, MSE = 0.090, TRAIN ACC = 0.909\n",
      "epoch = 1900, MSE = 0.090, TRAIN ACC = 0.909\n",
      "epoch = 2000, MSE = 0.089, TRAIN ACC = 0.910\n",
      "epoch = 2100, MSE = 0.089, TRAIN ACC = 0.910\n",
      "epoch = 2200, MSE = 0.088, TRAIN ACC = 0.911\n",
      "epoch = 2300, MSE = 0.088, TRAIN ACC = 0.911\n",
      "epoch = 2400, MSE = 0.087, TRAIN ACC = 0.912\n",
      "epoch = 2500, MSE = 0.087, TRAIN ACC = 0.912\n",
      "epoch = 2600, MSE = 0.086, TRAIN ACC = 0.912\n",
      "epoch = 2700, MSE = 0.086, TRAIN ACC = 0.913\n",
      "epoch = 2800, MSE = 0.086, TRAIN ACC = 0.913\n",
      "epoch = 2900, MSE = 0.085, TRAIN ACC = 0.913\n",
      "epoch = 3000, MSE = 0.085, TRAIN ACC = 0.913\n",
      "epoch = 3100, MSE = 0.085, TRAIN ACC = 0.914\n",
      "epoch = 3200, MSE = 0.085, TRAIN ACC = 0.914\n",
      "epoch = 3300, MSE = 0.084, TRAIN ACC = 0.914\n",
      "epoch = 3400, MSE = 0.084, TRAIN ACC = 0.914\n",
      "epoch = 3500, MSE = 0.084, TRAIN ACC = 0.915\n",
      "epoch = 3600, MSE = 0.084, TRAIN ACC = 0.915\n",
      "epoch = 3700, MSE = 0.083, TRAIN ACC = 0.915\n",
      "epoch = 3800, MSE = 0.083, TRAIN ACC = 0.915\n",
      "epoch = 3900, MSE = 0.083, TRAIN ACC = 0.915\n",
      "epoch = 4000, MSE = 0.083, TRAIN ACC = 0.916\n",
      "epoch = 4100, MSE = 0.082, TRAIN ACC = 0.916\n",
      "epoch = 4200, MSE = 0.082, TRAIN ACC = 0.916\n",
      "epoch = 4300, MSE = 0.082, TRAIN ACC = 0.916\n",
      "epoch = 4400, MSE = 0.082, TRAIN ACC = 0.916\n",
      "epoch = 4500, MSE = 0.082, TRAIN ACC = 0.916\n",
      "epoch = 4600, MSE = 0.081, TRAIN ACC = 0.917\n",
      "epoch = 4700, MSE = 0.081, TRAIN ACC = 0.917\n",
      "epoch = 4800, MSE = 0.081, TRAIN ACC = 0.917\n",
      "epoch = 4900, MSE = 0.081, TRAIN ACC = 0.917\n"
     ]
    }
   ],
   "source": [
    "lr = LR()\n",
    "lr.learn(x_train, y_train, 0.99)"
   ]
  },
  {
   "cell_type": "markdown",
   "metadata": {
    "collapsed": true
   },
   "source": [
    "### Test Accuracy of the Trained Logistic Regression"
   ]
  },
  {
   "cell_type": "code",
   "execution_count": 39,
   "metadata": {},
   "outputs": [
    {
     "name": "stdout",
     "output_type": "stream",
     "text": [
      "TEST ACC = 0.918\n"
     ]
    }
   ],
   "source": [
    "print('TEST ACC = {0:.3f}'.format(lr.accuracy(x_test, y_test)))"
   ]
  },
  {
   "cell_type": "code",
   "execution_count": 40,
   "metadata": {},
   "outputs": [
    {
     "name": "stdout",
     "output_type": "stream",
     "text": [
      "VAL ACC = 0.907\n"
     ]
    }
   ],
   "source": [
    "print('VAL ACC = {0:.3f}'.format(lr.accuracy(x_val, y_val)))"
   ]
  },
  {
   "cell_type": "code",
   "execution_count": 42,
   "metadata": {},
   "outputs": [
    {
     "name": "stdout",
     "output_type": "stream",
     "text": [
      "TRAIN ACC =0.917\n"
     ]
    }
   ],
   "source": [
    "print('TRAIN ACC ={0:.3f}'.format(lr.accuracy(x_train, y_train)))"
   ]
  },
  {
   "cell_type": "markdown",
   "metadata": {},
   "source": [
    "### Sample Digit Classification Results"
   ]
  },
  {
   "cell_type": "code",
   "execution_count": 31,
   "metadata": {},
   "outputs": [
    {
     "data": {
      "image/png": "[encoded data removed]",
      "text/plain": [
       "<Figure size 432x288 with 1 Axes>"
      ]
     },
     "metadata": {
      "needs_background": "light"
     },
     "output_type": "display_data"
    }
   ],
   "source": [
    "index = 1000\n",
    "image_test = vector2image(x_test[index])\n",
    "image_test_label = y_test[index]\n",
    "image_test_label_predicted = lr.classify(x_test[index][np.newaxis, :])[0]\n",
    "pl.figure()\n",
    "pl.imshow(image_test, cmap='gray')\n",
    "pl.axis('off')\n",
    "pl.title('x_test[{0}], y_test[{0}]={1}, y_test_pred[{0}]={2}'.format(index, image_test_label, image_test_label_predicted))\n",
    "pl.show()"
   ]
  },
  {
   "cell_type": "markdown",
   "metadata": {},
   "source": [
    "### Confusion Matrix"
   ]
  },
  {
   "cell_type": "code",
   "execution_count": 34,
   "metadata": {},
   "outputs": [
    {
     "name": "stdout",
     "output_type": "stream",
     "text": [
      "[[4930    0    6    7    7   10   34    4   44    3]\n",
      " [   2 5586   31   13    5   27    9   12   64    7]\n",
      " [  42   33 4534   56   77   18   60   88  123   21]\n",
      " [  30   15  132 4586    8  150   31   53  111   55]\n",
      " [  22   26   25    5 4549    2   47    7   49  172]\n",
      " [  78   24   42  152   70 3952   90   28  137   56]\n",
      " [  32   15   32    3   20   65 4830    7   41    3]\n",
      " [  21   40   66   14   62   11    5 4974   21  120]\n",
      " [  54  103   57   97   38  139   41   17 4391   62]\n",
      " [  50   27   19   82  179   36    5  153   57 4454]]\n"
     ]
    }
   ],
   "source": [
    "print(lr.confusion_matrix(x_train,y_train))"
   ]
  },
  {
   "cell_type": "code",
   "execution_count": 35,
   "metadata": {},
   "outputs": [
    {
     "name": "stdout",
     "output_type": "stream",
     "text": [
      "[[ 964    0    0    2    0    2    8    1    3    0]\n",
      " [   0 1104    3    4    0    2    5    2   15    0]\n",
      " [   8    1  930   11   11    3   12   15   36    5]\n",
      " [   3    0   24  922    2   19    4    9   18    9]\n",
      " [   3    2    6    0  908    0   11    2   10   40]\n",
      " [  13    2    3   33   12  763   19    7   32    8]\n",
      " [  11    3    4    2    7   13  910    1    7    0]\n",
      " [   2    9   24    5    8    1    1  946    2   30]\n",
      " [  11    5   10   17   15   25   11   14  860    6]\n",
      " [  10    6    2   14   53   10    0   26   16  872]]\n"
     ]
    }
   ],
   "source": [
    "print(lr.confusion_matrix(x_test, y_test))"
   ]
  },
  {
   "cell_type": "code",
   "execution_count": 24,
   "metadata": {},
   "outputs": [
    {
     "name": "stdout",
     "output_type": "stream",
     "text": [
      "[[848   0   3   0   3   2   7   2  12   1]\n",
      " [  0 953   9   5   0   7   3   3   5   1]\n",
      " [ 11   4 804  11  16   1  10  17  25   7]\n",
      " [  9   4  24 841   1  29   7  11  22  12]\n",
      " [  3   2   7   1 860   0   7   2  13  43]\n",
      " [ 22   6   4  19  15 670  21   2  28   5]\n",
      " [  7   3   7   0   4  10 833   0   6   0]\n",
      " [  5   3   5   3  13   0   0 864   2  36]\n",
      " [  6  25  15  26   9  27   4   2 730   8]\n",
      " [ 10   2   6  25  38   8   0  25  13 760]]\n"
     ]
    }
   ],
   "source": [
    "print(lr.confusion_matrix(x_val, y_val))"
   ]
  },
  {
   "cell_type": "code",
   "execution_count": 46,
   "metadata": {},
   "outputs": [],
   "source": [
    "class MFNN:\n",
    "    def __init__(self, num_nodes, seed=7):\n",
    "        self.num_nodes = num_nodes\n",
    "        self.seed = seed\n",
    "        self.create_network()\n",
    "        \n",
    "    def create_network(self):\n",
    "        np.random.seed(self.seed)\n",
    "        self.Wrandom = []        \n",
    "        for n in np.arange(len(self.num_nodes)-1):\n",
    "            Wr = np.random.randn(self.num_nodes[n], self.num_nodes[n+1])\n",
    "            Wr = Wr - np.mean(Wr, axis=0)\n",
    "            Wr = Wr / np.var(Wr, axis=0)\n",
    "            self.Wrandom.append(Wr)\n",
    "            \n",
    "    def augment_data(self, X):\n",
    "        s = X.copy()\n",
    "        for Wr in self.Wrandom:\n",
    "            s = np.dot(s, Wr)\n",
    "            u = self.activation(s)\n",
    "        u = np.hstack((np.ones((u.shape[0],1)), u))\n",
    "        return u            \n",
    "    \n",
    "    def parameters(self):\n",
    "        return self.W\n",
    "                \n",
    "    def activation(self, s):\n",
    "        return 1.0 / (1 + np.exp(-s)) # sigmoid function as activation function\n",
    "    \n",
    "    def feedforward(self, X): # output of the logistic regression\n",
    "        S = np.dot(X, self.W)\n",
    "        U = self.activation(S)\n",
    "        return U\n",
    "        \n",
    "    def learn(self, X, Y, learning_rate=0.66, delta=1e-6, epoch_max=5000, seed=7):\n",
    "        self.learning_rate = learning_rate\n",
    "        self.delta = delta\n",
    "        self.epoch_max = epoch_max\n",
    "        self.seed = seed\n",
    "        np.random.seed(seed)\n",
    "        X = self.augment_data(X)\n",
    "        d = X.shape[1]\n",
    "        C =  len(np.unique(Y))\n",
    "        self.W = np.random.randn(d, C) * 0.01\n",
    "        N = X.shape[0]\n",
    "        Y_one_hot = np.zeros((N, C))\n",
    "        Y_one_hot[np.arange(N), Y] = 1.0\n",
    "        converged = False\n",
    "        epoch = 1\n",
    "        while not converged:\n",
    "            U = self.feedforward(X)\n",
    "            E = (U - Y_one_hot)\n",
    "            D = U * (1-U) * E\n",
    "            MSE = 1.0 / (2 * N) * np.sum(np.sum(E**2, axis=1))\n",
    "            if (epoch%20) == 0:\n",
    "                ACC = self.accuracy(X, Y, True)\n",
    "                print('epoch = {0}, MSE = {1:.3f}, TRAIN ACC = {2:.3f}'.format(epoch, MSE, ACC))\n",
    "            W_ = self.W.copy()\n",
    "            self.W = self.W - self.learning_rate * 1.0/N * np.dot(X.T, D)\n",
    "            epoch += 1\n",
    "            if (np.max(np.abs(W_ - self.W)) <= self.delta) or (epoch >=self.epoch_max):\n",
    "                converged = True        \n",
    "        \n",
    "    def classify(self, X, augmented=False):\n",
    "        if not augmented:\n",
    "            X = self.augment_data(X)\n",
    "        U = self.feedforward(X)\n",
    "        L = np.argmax(U, axis=1)            \n",
    "        return L\n",
    "    \n",
    "    def accuracy(self, X, Y, augmented=False):\n",
    "        N = X.shape[0]\n",
    "        L = self.classify(X, augmented)\n",
    "        acc = np.sum(L == Y) / N\n",
    "        return acc\n",
    "    \n",
    "    def confusion_matrix(self, X, Y):\n",
    "        P = lr.classify(X)\n",
    "        labels = np.unique(Y)\n",
    "        CM = np.zeros((len(labels), len(labels)), dtype=np.int)\n",
    "        for y, p in zip(Y, P):\n",
    "            CM[y,p] = CM[y,p] + 1\n",
    "        return CM        "
   ]
  },
  {
   "cell_type": "code",
   "execution_count": 47,
   "metadata": {},
   "outputs": [
    {
     "name": "stdout",
     "output_type": "stream",
     "text": [
      "epoch = 20, MSE = 0.417, TRAIN ACC = 0.254\n",
      "epoch = 40, MSE = 0.312, TRAIN ACC = 0.676\n",
      "epoch = 60, MSE = 0.252, TRAIN ACC = 0.771\n",
      "epoch = 80, MSE = 0.217, TRAIN ACC = 0.815\n",
      "epoch = 100, MSE = 0.195, TRAIN ACC = 0.835\n",
      "epoch = 120, MSE = 0.180, TRAIN ACC = 0.846\n",
      "epoch = 140, MSE = 0.169, TRAIN ACC = 0.854\n",
      "epoch = 160, MSE = 0.160, TRAIN ACC = 0.860\n",
      "epoch = 180, MSE = 0.153, TRAIN ACC = 0.865\n",
      "epoch = 200, MSE = 0.148, TRAIN ACC = 0.869\n",
      "epoch = 220, MSE = 0.143, TRAIN ACC = 0.872\n",
      "epoch = 240, MSE = 0.139, TRAIN ACC = 0.875\n",
      "epoch = 260, MSE = 0.135, TRAIN ACC = 0.877\n",
      "epoch = 280, MSE = 0.132, TRAIN ACC = 0.879\n",
      "epoch = 300, MSE = 0.129, TRAIN ACC = 0.881\n",
      "epoch = 320, MSE = 0.127, TRAIN ACC = 0.883\n",
      "epoch = 340, MSE = 0.124, TRAIN ACC = 0.885\n",
      "epoch = 360, MSE = 0.122, TRAIN ACC = 0.886\n",
      "epoch = 380, MSE = 0.120, TRAIN ACC = 0.888\n",
      "epoch = 400, MSE = 0.119, TRAIN ACC = 0.889\n",
      "epoch = 420, MSE = 0.117, TRAIN ACC = 0.890\n",
      "epoch = 440, MSE = 0.116, TRAIN ACC = 0.891\n",
      "epoch = 460, MSE = 0.114, TRAIN ACC = 0.893\n",
      "epoch = 480, MSE = 0.113, TRAIN ACC = 0.894\n",
      "epoch = 500, MSE = 0.112, TRAIN ACC = 0.895\n",
      "epoch = 520, MSE = 0.110, TRAIN ACC = 0.895\n",
      "epoch = 540, MSE = 0.109, TRAIN ACC = 0.896\n",
      "epoch = 560, MSE = 0.108, TRAIN ACC = 0.897\n",
      "epoch = 580, MSE = 0.107, TRAIN ACC = 0.898\n",
      "epoch = 600, MSE = 0.106, TRAIN ACC = 0.899\n",
      "epoch = 620, MSE = 0.106, TRAIN ACC = 0.899\n",
      "epoch = 640, MSE = 0.105, TRAIN ACC = 0.900\n",
      "epoch = 660, MSE = 0.104, TRAIN ACC = 0.901\n",
      "epoch = 680, MSE = 0.103, TRAIN ACC = 0.901\n",
      "epoch = 700, MSE = 0.102, TRAIN ACC = 0.902\n",
      "epoch = 720, MSE = 0.102, TRAIN ACC = 0.902\n",
      "epoch = 740, MSE = 0.101, TRAIN ACC = 0.903\n",
      "epoch = 760, MSE = 0.100, TRAIN ACC = 0.903\n",
      "epoch = 780, MSE = 0.100, TRAIN ACC = 0.904\n",
      "epoch = 800, MSE = 0.099, TRAIN ACC = 0.904\n",
      "epoch = 820, MSE = 0.098, TRAIN ACC = 0.905\n",
      "epoch = 840, MSE = 0.098, TRAIN ACC = 0.905\n",
      "epoch = 860, MSE = 0.097, TRAIN ACC = 0.906\n",
      "epoch = 880, MSE = 0.097, TRAIN ACC = 0.906\n",
      "epoch = 900, MSE = 0.096, TRAIN ACC = 0.906\n",
      "epoch = 920, MSE = 0.096, TRAIN ACC = 0.907\n",
      "epoch = 940, MSE = 0.095, TRAIN ACC = 0.907\n",
      "epoch = 960, MSE = 0.095, TRAIN ACC = 0.908\n",
      "epoch = 980, MSE = 0.094, TRAIN ACC = 0.908\n",
      "epoch = 1000, MSE = 0.094, TRAIN ACC = 0.908\n",
      "epoch = 1020, MSE = 0.093, TRAIN ACC = 0.909\n",
      "epoch = 1040, MSE = 0.093, TRAIN ACC = 0.909\n",
      "epoch = 1060, MSE = 0.093, TRAIN ACC = 0.909\n",
      "epoch = 1080, MSE = 0.092, TRAIN ACC = 0.910\n",
      "epoch = 1100, MSE = 0.092, TRAIN ACC = 0.910\n",
      "epoch = 1120, MSE = 0.091, TRAIN ACC = 0.910\n",
      "epoch = 1140, MSE = 0.091, TRAIN ACC = 0.911\n",
      "epoch = 1160, MSE = 0.091, TRAIN ACC = 0.911\n",
      "epoch = 1180, MSE = 0.090, TRAIN ACC = 0.911\n",
      "epoch = 1200, MSE = 0.090, TRAIN ACC = 0.912\n",
      "epoch = 1220, MSE = 0.090, TRAIN ACC = 0.912\n",
      "epoch = 1240, MSE = 0.089, TRAIN ACC = 0.912\n",
      "epoch = 1260, MSE = 0.089, TRAIN ACC = 0.912\n",
      "epoch = 1280, MSE = 0.089, TRAIN ACC = 0.913\n",
      "epoch = 1300, MSE = 0.088, TRAIN ACC = 0.913\n",
      "epoch = 1320, MSE = 0.088, TRAIN ACC = 0.913\n",
      "epoch = 1340, MSE = 0.088, TRAIN ACC = 0.913\n",
      "epoch = 1360, MSE = 0.087, TRAIN ACC = 0.914\n",
      "epoch = 1380, MSE = 0.087, TRAIN ACC = 0.914\n",
      "epoch = 1400, MSE = 0.087, TRAIN ACC = 0.914\n",
      "epoch = 1420, MSE = 0.087, TRAIN ACC = 0.914\n",
      "epoch = 1440, MSE = 0.086, TRAIN ACC = 0.915\n",
      "epoch = 1460, MSE = 0.086, TRAIN ACC = 0.915\n",
      "epoch = 1480, MSE = 0.086, TRAIN ACC = 0.915\n",
      "epoch = 1500, MSE = 0.085, TRAIN ACC = 0.915\n",
      "epoch = 1520, MSE = 0.085, TRAIN ACC = 0.915\n",
      "epoch = 1540, MSE = 0.085, TRAIN ACC = 0.916\n",
      "epoch = 1560, MSE = 0.085, TRAIN ACC = 0.916\n",
      "epoch = 1580, MSE = 0.084, TRAIN ACC = 0.916\n",
      "epoch = 1600, MSE = 0.084, TRAIN ACC = 0.916\n",
      "epoch = 1620, MSE = 0.084, TRAIN ACC = 0.917\n",
      "epoch = 1640, MSE = 0.084, TRAIN ACC = 0.917\n",
      "epoch = 1660, MSE = 0.084, TRAIN ACC = 0.917\n",
      "epoch = 1680, MSE = 0.083, TRAIN ACC = 0.917\n",
      "epoch = 1700, MSE = 0.083, TRAIN ACC = 0.917\n",
      "epoch = 1720, MSE = 0.083, TRAIN ACC = 0.918\n",
      "epoch = 1740, MSE = 0.083, TRAIN ACC = 0.918\n",
      "epoch = 1760, MSE = 0.082, TRAIN ACC = 0.918\n",
      "epoch = 1780, MSE = 0.082, TRAIN ACC = 0.918\n",
      "epoch = 1800, MSE = 0.082, TRAIN ACC = 0.918\n",
      "epoch = 1820, MSE = 0.082, TRAIN ACC = 0.919\n",
      "epoch = 1840, MSE = 0.082, TRAIN ACC = 0.919\n",
      "epoch = 1860, MSE = 0.081, TRAIN ACC = 0.919\n",
      "epoch = 1880, MSE = 0.081, TRAIN ACC = 0.919\n",
      "epoch = 1900, MSE = 0.081, TRAIN ACC = 0.920\n",
      "epoch = 1920, MSE = 0.081, TRAIN ACC = 0.920\n",
      "epoch = 1940, MSE = 0.081, TRAIN ACC = 0.920\n",
      "epoch = 1960, MSE = 0.080, TRAIN ACC = 0.920\n",
      "epoch = 1980, MSE = 0.080, TRAIN ACC = 0.920\n",
      "epoch = 2000, MSE = 0.080, TRAIN ACC = 0.920\n",
      "epoch = 2020, MSE = 0.080, TRAIN ACC = 0.920\n",
      "epoch = 2040, MSE = 0.080, TRAIN ACC = 0.921\n",
      "epoch = 2060, MSE = 0.080, TRAIN ACC = 0.921\n",
      "epoch = 2080, MSE = 0.079, TRAIN ACC = 0.921\n",
      "epoch = 2100, MSE = 0.079, TRAIN ACC = 0.921\n",
      "epoch = 2120, MSE = 0.079, TRAIN ACC = 0.922\n",
      "epoch = 2140, MSE = 0.079, TRAIN ACC = 0.922\n",
      "epoch = 2160, MSE = 0.079, TRAIN ACC = 0.922\n",
      "epoch = 2180, MSE = 0.078, TRAIN ACC = 0.922\n",
      "epoch = 2200, MSE = 0.078, TRAIN ACC = 0.922\n",
      "epoch = 2220, MSE = 0.078, TRAIN ACC = 0.922\n",
      "epoch = 2240, MSE = 0.078, TRAIN ACC = 0.923\n",
      "epoch = 2260, MSE = 0.078, TRAIN ACC = 0.923\n",
      "epoch = 2280, MSE = 0.078, TRAIN ACC = 0.923\n",
      "epoch = 2300, MSE = 0.078, TRAIN ACC = 0.923\n",
      "epoch = 2320, MSE = 0.077, TRAIN ACC = 0.923\n",
      "epoch = 2340, MSE = 0.077, TRAIN ACC = 0.923\n",
      "epoch = 2360, MSE = 0.077, TRAIN ACC = 0.923\n",
      "epoch = 2380, MSE = 0.077, TRAIN ACC = 0.924\n",
      "epoch = 2400, MSE = 0.077, TRAIN ACC = 0.924\n",
      "epoch = 2420, MSE = 0.077, TRAIN ACC = 0.924\n",
      "epoch = 2440, MSE = 0.077, TRAIN ACC = 0.924\n",
      "epoch = 2460, MSE = 0.076, TRAIN ACC = 0.924\n",
      "epoch = 2480, MSE = 0.076, TRAIN ACC = 0.924\n",
      "epoch = 2500, MSE = 0.076, TRAIN ACC = 0.924\n",
      "epoch = 2520, MSE = 0.076, TRAIN ACC = 0.925\n",
      "epoch = 2540, MSE = 0.076, TRAIN ACC = 0.925\n",
      "epoch = 2560, MSE = 0.076, TRAIN ACC = 0.925\n",
      "epoch = 2580, MSE = 0.076, TRAIN ACC = 0.925\n",
      "epoch = 2600, MSE = 0.075, TRAIN ACC = 0.925\n",
      "epoch = 2620, MSE = 0.075, TRAIN ACC = 0.925\n",
      "epoch = 2640, MSE = 0.075, TRAIN ACC = 0.925\n",
      "epoch = 2660, MSE = 0.075, TRAIN ACC = 0.925\n",
      "epoch = 2680, MSE = 0.075, TRAIN ACC = 0.925\n",
      "epoch = 2700, MSE = 0.075, TRAIN ACC = 0.926\n",
      "epoch = 2720, MSE = 0.075, TRAIN ACC = 0.926\n",
      "epoch = 2740, MSE = 0.075, TRAIN ACC = 0.926\n",
      "epoch = 2760, MSE = 0.074, TRAIN ACC = 0.926\n",
      "epoch = 2780, MSE = 0.074, TRAIN ACC = 0.926\n",
      "epoch = 2800, MSE = 0.074, TRAIN ACC = 0.926\n",
      "epoch = 2820, MSE = 0.074, TRAIN ACC = 0.926\n",
      "epoch = 2840, MSE = 0.074, TRAIN ACC = 0.927\n",
      "epoch = 2860, MSE = 0.074, TRAIN ACC = 0.927\n",
      "epoch = 2880, MSE = 0.074, TRAIN ACC = 0.927\n",
      "epoch = 2900, MSE = 0.074, TRAIN ACC = 0.927\n",
      "epoch = 2920, MSE = 0.073, TRAIN ACC = 0.927\n",
      "epoch = 2940, MSE = 0.073, TRAIN ACC = 0.927\n",
      "epoch = 2960, MSE = 0.073, TRAIN ACC = 0.928\n",
      "epoch = 2980, MSE = 0.073, TRAIN ACC = 0.928\n",
      "epoch = 3000, MSE = 0.073, TRAIN ACC = 0.928\n",
      "epoch = 3020, MSE = 0.073, TRAIN ACC = 0.928\n",
      "epoch = 3040, MSE = 0.073, TRAIN ACC = 0.928\n",
      "epoch = 3060, MSE = 0.073, TRAIN ACC = 0.928\n",
      "epoch = 3080, MSE = 0.073, TRAIN ACC = 0.928\n",
      "epoch = 3100, MSE = 0.072, TRAIN ACC = 0.928\n",
      "epoch = 3120, MSE = 0.072, TRAIN ACC = 0.929\n",
      "epoch = 3140, MSE = 0.072, TRAIN ACC = 0.929\n",
      "epoch = 3160, MSE = 0.072, TRAIN ACC = 0.929\n",
      "epoch = 3180, MSE = 0.072, TRAIN ACC = 0.929\n",
      "epoch = 3200, MSE = 0.072, TRAIN ACC = 0.929\n",
      "epoch = 3220, MSE = 0.072, TRAIN ACC = 0.929\n",
      "epoch = 3240, MSE = 0.072, TRAIN ACC = 0.929\n",
      "epoch = 3260, MSE = 0.072, TRAIN ACC = 0.929\n",
      "epoch = 3280, MSE = 0.071, TRAIN ACC = 0.929\n",
      "epoch = 3300, MSE = 0.071, TRAIN ACC = 0.930\n",
      "epoch = 3320, MSE = 0.071, TRAIN ACC = 0.930\n",
      "epoch = 3340, MSE = 0.071, TRAIN ACC = 0.930\n",
      "epoch = 3360, MSE = 0.071, TRAIN ACC = 0.930\n",
      "epoch = 3380, MSE = 0.071, TRAIN ACC = 0.930\n",
      "epoch = 3400, MSE = 0.071, TRAIN ACC = 0.930\n",
      "epoch = 3420, MSE = 0.071, TRAIN ACC = 0.930\n",
      "epoch = 3440, MSE = 0.071, TRAIN ACC = 0.930\n",
      "epoch = 3460, MSE = 0.071, TRAIN ACC = 0.930\n",
      "epoch = 3480, MSE = 0.070, TRAIN ACC = 0.930\n",
      "epoch = 3500, MSE = 0.070, TRAIN ACC = 0.930\n",
      "epoch = 3520, MSE = 0.070, TRAIN ACC = 0.930\n",
      "epoch = 3540, MSE = 0.070, TRAIN ACC = 0.931\n",
      "epoch = 3560, MSE = 0.070, TRAIN ACC = 0.931\n",
      "epoch = 3580, MSE = 0.070, TRAIN ACC = 0.931\n",
      "epoch = 3600, MSE = 0.070, TRAIN ACC = 0.931\n",
      "epoch = 3620, MSE = 0.070, TRAIN ACC = 0.931\n",
      "epoch = 3640, MSE = 0.070, TRAIN ACC = 0.931\n",
      "epoch = 3660, MSE = 0.070, TRAIN ACC = 0.931\n",
      "epoch = 3680, MSE = 0.070, TRAIN ACC = 0.931\n"
     ]
    },
    {
     "name": "stdout",
     "output_type": "stream",
     "text": [
      "epoch = 3700, MSE = 0.069, TRAIN ACC = 0.931\n",
      "epoch = 3720, MSE = 0.069, TRAIN ACC = 0.931\n",
      "epoch = 3740, MSE = 0.069, TRAIN ACC = 0.931\n",
      "epoch = 3760, MSE = 0.069, TRAIN ACC = 0.932\n",
      "epoch = 3780, MSE = 0.069, TRAIN ACC = 0.932\n",
      "epoch = 3800, MSE = 0.069, TRAIN ACC = 0.932\n",
      "epoch = 3820, MSE = 0.069, TRAIN ACC = 0.932\n",
      "epoch = 3840, MSE = 0.069, TRAIN ACC = 0.932\n",
      "epoch = 3860, MSE = 0.069, TRAIN ACC = 0.932\n",
      "epoch = 3880, MSE = 0.069, TRAIN ACC = 0.932\n",
      "epoch = 3900, MSE = 0.069, TRAIN ACC = 0.932\n",
      "epoch = 3920, MSE = 0.069, TRAIN ACC = 0.932\n",
      "epoch = 3940, MSE = 0.068, TRAIN ACC = 0.932\n",
      "epoch = 3960, MSE = 0.068, TRAIN ACC = 0.932\n",
      "epoch = 3980, MSE = 0.068, TRAIN ACC = 0.932\n",
      "epoch = 4000, MSE = 0.068, TRAIN ACC = 0.932\n",
      "epoch = 4020, MSE = 0.068, TRAIN ACC = 0.932\n",
      "epoch = 4040, MSE = 0.068, TRAIN ACC = 0.932\n",
      "epoch = 4060, MSE = 0.068, TRAIN ACC = 0.933\n",
      "epoch = 4080, MSE = 0.068, TRAIN ACC = 0.933\n",
      "epoch = 4100, MSE = 0.068, TRAIN ACC = 0.933\n",
      "epoch = 4120, MSE = 0.068, TRAIN ACC = 0.933\n",
      "epoch = 4140, MSE = 0.068, TRAIN ACC = 0.933\n",
      "epoch = 4160, MSE = 0.068, TRAIN ACC = 0.933\n",
      "epoch = 4180, MSE = 0.068, TRAIN ACC = 0.933\n",
      "epoch = 4200, MSE = 0.067, TRAIN ACC = 0.933\n",
      "epoch = 4220, MSE = 0.067, TRAIN ACC = 0.933\n",
      "epoch = 4240, MSE = 0.067, TRAIN ACC = 0.933\n",
      "epoch = 4260, MSE = 0.067, TRAIN ACC = 0.933\n",
      "epoch = 4280, MSE = 0.067, TRAIN ACC = 0.933\n",
      "epoch = 4300, MSE = 0.067, TRAIN ACC = 0.933\n",
      "epoch = 4320, MSE = 0.067, TRAIN ACC = 0.933\n",
      "epoch = 4340, MSE = 0.067, TRAIN ACC = 0.933\n",
      "epoch = 4360, MSE = 0.067, TRAIN ACC = 0.933\n",
      "epoch = 4380, MSE = 0.067, TRAIN ACC = 0.933\n",
      "epoch = 4400, MSE = 0.067, TRAIN ACC = 0.934\n",
      "epoch = 4420, MSE = 0.067, TRAIN ACC = 0.934\n",
      "epoch = 4440, MSE = 0.067, TRAIN ACC = 0.934\n",
      "epoch = 4460, MSE = 0.066, TRAIN ACC = 0.934\n",
      "epoch = 4480, MSE = 0.066, TRAIN ACC = 0.934\n",
      "epoch = 4500, MSE = 0.066, TRAIN ACC = 0.934\n",
      "epoch = 4520, MSE = 0.066, TRAIN ACC = 0.934\n",
      "epoch = 4540, MSE = 0.066, TRAIN ACC = 0.934\n",
      "epoch = 4560, MSE = 0.066, TRAIN ACC = 0.934\n",
      "epoch = 4580, MSE = 0.066, TRAIN ACC = 0.934\n",
      "epoch = 4600, MSE = 0.066, TRAIN ACC = 0.934\n",
      "epoch = 4620, MSE = 0.066, TRAIN ACC = 0.934\n",
      "epoch = 4640, MSE = 0.066, TRAIN ACC = 0.934\n",
      "epoch = 4660, MSE = 0.066, TRAIN ACC = 0.935\n",
      "epoch = 4680, MSE = 0.066, TRAIN ACC = 0.935\n",
      "epoch = 4700, MSE = 0.066, TRAIN ACC = 0.935\n",
      "epoch = 4720, MSE = 0.066, TRAIN ACC = 0.935\n",
      "epoch = 4740, MSE = 0.066, TRAIN ACC = 0.935\n",
      "epoch = 4760, MSE = 0.065, TRAIN ACC = 0.935\n",
      "epoch = 4780, MSE = 0.065, TRAIN ACC = 0.935\n",
      "epoch = 4800, MSE = 0.065, TRAIN ACC = 0.935\n",
      "epoch = 4820, MSE = 0.065, TRAIN ACC = 0.935\n",
      "epoch = 4840, MSE = 0.065, TRAIN ACC = 0.935\n",
      "epoch = 4860, MSE = 0.065, TRAIN ACC = 0.935\n",
      "epoch = 4880, MSE = 0.065, TRAIN ACC = 0.935\n",
      "epoch = 4900, MSE = 0.065, TRAIN ACC = 0.935\n",
      "epoch = 4920, MSE = 0.065, TRAIN ACC = 0.935\n",
      "epoch = 4940, MSE = 0.065, TRAIN ACC = 0.935\n",
      "epoch = 4960, MSE = 0.065, TRAIN ACC = 0.935\n",
      "epoch = 4980, MSE = 0.065, TRAIN ACC = 0.936\n"
     ]
    }
   ],
   "source": [
    "num_nodes = [x_train.shape[1], np.int(2 * x_train.shape[1])]\n",
    "mfnn = MFNN(num_nodes)\n",
    "mfnn.learn(x_train, y_train, 0.1)"
   ]
  },
  {
   "cell_type": "code",
   "execution_count": 48,
   "metadata": {},
   "outputs": [
    {
     "name": "stdout",
     "output_type": "stream",
     "text": [
      "TEST ACC = 0.933\n"
     ]
    }
   ],
   "source": [
    "print('TEST ACC = {0:.3f}'.format(mfnn.accuracy(x_test, y_test)))"
   ]
  },
  {
   "cell_type": "code",
   "execution_count": 49,
   "metadata": {},
   "outputs": [
    {
     "name": "stdout",
     "output_type": "stream",
     "text": [
      "TRAIN ACC = 0.936\n"
     ]
    }
   ],
   "source": [
    "print('TRAIN ACC = {0:.3f}'.format(mfnn.accuracy(x_train, y_train)))"
   ]
  },
  {
   "cell_type": "code",
   "execution_count": 50,
   "metadata": {},
   "outputs": [
    {
     "name": "stdout",
     "output_type": "stream",
     "text": [
      "VAL ACC = 0.928\n"
     ]
    }
   ],
   "source": [
    "print('VAL ACC = {0:.3f}'.format(mfnn.accuracy(x_val, y_val)))"
   ]
  },
  {
   "cell_type": "code",
   "execution_count": 51,
   "metadata": {},
   "outputs": [
    {
     "name": "stdout",
     "output_type": "stream",
     "text": [
      "[[ 964    0    0    2    0    2    8    1    3    0]\n",
      " [   0 1104    3    4    0    2    5    2   15    0]\n",
      " [   8    1  930   11   11    3   12   15   36    5]\n",
      " [   3    0   24  922    2   19    4    9   18    9]\n",
      " [   3    2    6    0  908    0   11    2   10   40]\n",
      " [  13    2    3   33   12  763   19    7   32    8]\n",
      " [  11    3    4    2    7   13  910    1    7    0]\n",
      " [   2    9   24    5    8    1    1  946    2   30]\n",
      " [  11    5   10   17   15   25   11   14  860    6]\n",
      " [  10    6    2   14   53   10    0   26   16  872]]\n"
     ]
    }
   ],
   "source": [
    "print(mfnn.confusion_matrix(x_test, y_test))"
   ]
  },
  {
   "cell_type": "code",
   "execution_count": 52,
   "metadata": {},
   "outputs": [
    {
     "name": "stdout",
     "output_type": "stream",
     "text": [
      "[[4930    0    6    7    7   10   34    4   44    3]\n",
      " [   2 5586   31   13    5   27    9   12   64    7]\n",
      " [  42   33 4534   56   77   18   60   88  123   21]\n",
      " [  30   15  132 4586    8  150   31   53  111   55]\n",
      " [  22   26   25    5 4549    2   47    7   49  172]\n",
      " [  78   24   42  152   70 3952   90   28  137   56]\n",
      " [  32   15   32    3   20   65 4830    7   41    3]\n",
      " [  21   40   66   14   62   11    5 4974   21  120]\n",
      " [  54  103   57   97   38  139   41   17 4391   62]\n",
      " [  50   27   19   82  179   36    5  153   57 4454]]\n"
     ]
    }
   ],
   "source": [
    "print(mfnn.confusion_matrix(x_train, y_train))"
   ]
  },
  {
   "cell_type": "code",
   "execution_count": 53,
   "metadata": {},
   "outputs": [
    {
     "name": "stdout",
     "output_type": "stream",
     "text": [
      "[[848   0   3   0   3   2   7   2  12   1]\n",
      " [  0 953   9   5   0   7   3   3   5   1]\n",
      " [ 11   4 804  11  16   1  10  17  25   7]\n",
      " [  9   4  24 841   1  29   7  11  22  12]\n",
      " [  3   2   7   1 860   0   7   2  13  43]\n",
      " [ 22   6   4  19  15 670  21   2  28   5]\n",
      " [  7   3   7   0   4  10 833   0   6   0]\n",
      " [  5   3   5   3  13   0   0 864   2  36]\n",
      " [  6  25  15  26   9  27   4   2 730   8]\n",
      " [ 10   2   6  25  38   8   0  25  13 760]]\n"
     ]
    }
   ],
   "source": [
    "print(mfnn.confusion_matrix(x_val, y_val))"
   ]
  },
  {
   "cell_type": "code",
   "execution_count": null,
   "metadata": {},
   "outputs": [],
   "source": []
  },
  {
   "cell_type": "code",
   "execution_count": null,
   "metadata": {},
   "outputs": [],
   "source": []
  }
 ],
 "metadata": {
  "kernelspec": {
   "display_name": "Python 3",
   "language": "python",
   "name": "python3"
  },
  "language_info": {
   "codemirror_mode": {
    "name": "ipython",
    "version": 3
   },
   "file_extension": ".py",
   "mimetype": "text/x-python",
   "name": "python",
   "nbconvert_exporter": "python",
   "pygments_lexer": "ipython3",
   "version": "3.7.1"
  }
 },
 "nbformat": 4,
 "nbformat_minor": 2
}
